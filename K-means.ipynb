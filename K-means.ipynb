{
 "cells": [
  {
   "cell_type": "code",
   "execution_count": 65,
   "id": "a38a9e13-5ed8-4175-a047-821edfd7b724",
   "metadata": {},
   "outputs": [
    {
     "name": "stdout",
     "output_type": "stream",
     "text": [
      "Manuel Daza - 202016908_59\n"
     ]
    }
   ],
   "source": [
    "print (\"Manuel Daza - 202016908_59\")"
   ]
  },
  {
   "cell_type": "code",
   "execution_count": 66,
   "id": "460178d9-3c45-457b-8b0c-83bcc9e1daa1",
   "metadata": {},
   "outputs": [],
   "source": [
    "#Importamos las librerias \n",
    "import pandas as pd\n",
    "import numpy as np\n",
    "import seaborn as sns\n",
    "import matplotlib.pyplot as plt\n",
    "import seaborn as sns\n",
    "import plotly.graph_objs as go\n",
    "import plotly.express as px\n",
    "\n",
    "#Librerias para modelos K-means\n",
    "from sklearn.preprocessing import LabelEncoder, StandardScaler\n",
    "from sklearn.cluster import KMeans, AgglomerativeClustering\n",
    "\n",
    "#Librerias para evaluar el modelo\n",
    "from sklearn import metrics\n",
    "from sklearn.metrics import silhouette_score, calinski_harabasz_score, davies_bouldin_score\n",
    "from scipy.cluster.hierarchy import dendrogram, linkage, cophenet\n",
    "from scipy.spatial.distance import pdist\n",
    "\n",
    "#]Libreria para evitar advertencia por falta de memoria\n",
    "import warnings\n",
    "warnings.filterwarnings('ignore')"
   ]
  },
  {
   "cell_type": "code",
   "execution_count": 67,
   "id": "46ea19a5-3a4b-4773-90d3-4ed5d185a225",
   "metadata": {},
   "outputs": [],
   "source": [
    "#Leemos los datos para cargarlos en la variable\n",
    "\n",
    "data = pd.read_csv('./mall_customers.csv')"
   ]
  },
  {
   "cell_type": "code",
   "execution_count": 68,
   "id": "27625226-b70e-4915-98a2-b96bad180f3b",
   "metadata": {},
   "outputs": [
    {
     "data": {
      "text/html": [
       "<div>\n",
       "<style scoped>\n",
       "    .dataframe tbody tr th:only-of-type {\n",
       "        vertical-align: middle;\n",
       "    }\n",
       "\n",
       "    .dataframe tbody tr th {\n",
       "        vertical-align: top;\n",
       "    }\n",
       "\n",
       "    .dataframe thead th {\n",
       "        text-align: right;\n",
       "    }\n",
       "</style>\n",
       "<table border=\"1\" class=\"dataframe\">\n",
       "  <thead>\n",
       "    <tr style=\"text-align: right;\">\n",
       "      <th></th>\n",
       "      <th>ClienteID</th>\n",
       "      <th>Genero</th>\n",
       "      <th>Edad</th>\n",
       "      <th>Anual Salario(k$)</th>\n",
       "      <th>Puntaje Compras (1-100)</th>\n",
       "    </tr>\n",
       "  </thead>\n",
       "  <tbody>\n",
       "    <tr>\n",
       "      <th>0</th>\n",
       "      <td>1</td>\n",
       "      <td>Male</td>\n",
       "      <td>19</td>\n",
       "      <td>15</td>\n",
       "      <td>39</td>\n",
       "    </tr>\n",
       "    <tr>\n",
       "      <th>1</th>\n",
       "      <td>2</td>\n",
       "      <td>Male</td>\n",
       "      <td>21</td>\n",
       "      <td>15</td>\n",
       "      <td>81</td>\n",
       "    </tr>\n",
       "    <tr>\n",
       "      <th>2</th>\n",
       "      <td>3</td>\n",
       "      <td>Female</td>\n",
       "      <td>20</td>\n",
       "      <td>16</td>\n",
       "      <td>6</td>\n",
       "    </tr>\n",
       "    <tr>\n",
       "      <th>3</th>\n",
       "      <td>4</td>\n",
       "      <td>Female</td>\n",
       "      <td>23</td>\n",
       "      <td>16</td>\n",
       "      <td>77</td>\n",
       "    </tr>\n",
       "    <tr>\n",
       "      <th>4</th>\n",
       "      <td>5</td>\n",
       "      <td>Female</td>\n",
       "      <td>31</td>\n",
       "      <td>17</td>\n",
       "      <td>40</td>\n",
       "    </tr>\n",
       "    <tr>\n",
       "      <th>5</th>\n",
       "      <td>6</td>\n",
       "      <td>Female</td>\n",
       "      <td>22</td>\n",
       "      <td>17</td>\n",
       "      <td>76</td>\n",
       "    </tr>\n",
       "    <tr>\n",
       "      <th>6</th>\n",
       "      <td>7</td>\n",
       "      <td>Female</td>\n",
       "      <td>35</td>\n",
       "      <td>18</td>\n",
       "      <td>6</td>\n",
       "    </tr>\n",
       "    <tr>\n",
       "      <th>7</th>\n",
       "      <td>8</td>\n",
       "      <td>Female</td>\n",
       "      <td>23</td>\n",
       "      <td>18</td>\n",
       "      <td>94</td>\n",
       "    </tr>\n",
       "    <tr>\n",
       "      <th>8</th>\n",
       "      <td>9</td>\n",
       "      <td>Male</td>\n",
       "      <td>64</td>\n",
       "      <td>19</td>\n",
       "      <td>3</td>\n",
       "    </tr>\n",
       "    <tr>\n",
       "      <th>9</th>\n",
       "      <td>10</td>\n",
       "      <td>Female</td>\n",
       "      <td>30</td>\n",
       "      <td>19</td>\n",
       "      <td>72</td>\n",
       "    </tr>\n",
       "    <tr>\n",
       "      <th>10</th>\n",
       "      <td>11</td>\n",
       "      <td>Male</td>\n",
       "      <td>67</td>\n",
       "      <td>19</td>\n",
       "      <td>14</td>\n",
       "    </tr>\n",
       "    <tr>\n",
       "      <th>11</th>\n",
       "      <td>12</td>\n",
       "      <td>Female</td>\n",
       "      <td>35</td>\n",
       "      <td>19</td>\n",
       "      <td>99</td>\n",
       "    </tr>\n",
       "    <tr>\n",
       "      <th>12</th>\n",
       "      <td>13</td>\n",
       "      <td>Female</td>\n",
       "      <td>58</td>\n",
       "      <td>20</td>\n",
       "      <td>15</td>\n",
       "    </tr>\n",
       "    <tr>\n",
       "      <th>13</th>\n",
       "      <td>14</td>\n",
       "      <td>Female</td>\n",
       "      <td>24</td>\n",
       "      <td>20</td>\n",
       "      <td>77</td>\n",
       "    </tr>\n",
       "    <tr>\n",
       "      <th>14</th>\n",
       "      <td>15</td>\n",
       "      <td>Male</td>\n",
       "      <td>37</td>\n",
       "      <td>20</td>\n",
       "      <td>13</td>\n",
       "    </tr>\n",
       "    <tr>\n",
       "      <th>15</th>\n",
       "      <td>16</td>\n",
       "      <td>Male</td>\n",
       "      <td>22</td>\n",
       "      <td>20</td>\n",
       "      <td>79</td>\n",
       "    </tr>\n",
       "    <tr>\n",
       "      <th>16</th>\n",
       "      <td>17</td>\n",
       "      <td>Female</td>\n",
       "      <td>35</td>\n",
       "      <td>21</td>\n",
       "      <td>35</td>\n",
       "    </tr>\n",
       "    <tr>\n",
       "      <th>17</th>\n",
       "      <td>18</td>\n",
       "      <td>Male</td>\n",
       "      <td>20</td>\n",
       "      <td>21</td>\n",
       "      <td>66</td>\n",
       "    </tr>\n",
       "    <tr>\n",
       "      <th>18</th>\n",
       "      <td>19</td>\n",
       "      <td>Male</td>\n",
       "      <td>52</td>\n",
       "      <td>23</td>\n",
       "      <td>29</td>\n",
       "    </tr>\n",
       "    <tr>\n",
       "      <th>19</th>\n",
       "      <td>20</td>\n",
       "      <td>Female</td>\n",
       "      <td>35</td>\n",
       "      <td>23</td>\n",
       "      <td>98</td>\n",
       "    </tr>\n",
       "    <tr>\n",
       "      <th>20</th>\n",
       "      <td>21</td>\n",
       "      <td>Male</td>\n",
       "      <td>35</td>\n",
       "      <td>24</td>\n",
       "      <td>35</td>\n",
       "    </tr>\n",
       "    <tr>\n",
       "      <th>21</th>\n",
       "      <td>22</td>\n",
       "      <td>Male</td>\n",
       "      <td>25</td>\n",
       "      <td>24</td>\n",
       "      <td>73</td>\n",
       "    </tr>\n",
       "    <tr>\n",
       "      <th>22</th>\n",
       "      <td>23</td>\n",
       "      <td>Female</td>\n",
       "      <td>46</td>\n",
       "      <td>25</td>\n",
       "      <td>5</td>\n",
       "    </tr>\n",
       "    <tr>\n",
       "      <th>23</th>\n",
       "      <td>24</td>\n",
       "      <td>Male</td>\n",
       "      <td>31</td>\n",
       "      <td>25</td>\n",
       "      <td>73</td>\n",
       "    </tr>\n",
       "    <tr>\n",
       "      <th>24</th>\n",
       "      <td>25</td>\n",
       "      <td>Female</td>\n",
       "      <td>54</td>\n",
       "      <td>28</td>\n",
       "      <td>14</td>\n",
       "    </tr>\n",
       "    <tr>\n",
       "      <th>25</th>\n",
       "      <td>26</td>\n",
       "      <td>Male</td>\n",
       "      <td>29</td>\n",
       "      <td>28</td>\n",
       "      <td>82</td>\n",
       "    </tr>\n",
       "    <tr>\n",
       "      <th>26</th>\n",
       "      <td>27</td>\n",
       "      <td>Female</td>\n",
       "      <td>45</td>\n",
       "      <td>28</td>\n",
       "      <td>32</td>\n",
       "    </tr>\n",
       "    <tr>\n",
       "      <th>27</th>\n",
       "      <td>28</td>\n",
       "      <td>Male</td>\n",
       "      <td>35</td>\n",
       "      <td>28</td>\n",
       "      <td>61</td>\n",
       "    </tr>\n",
       "    <tr>\n",
       "      <th>28</th>\n",
       "      <td>29</td>\n",
       "      <td>Female</td>\n",
       "      <td>40</td>\n",
       "      <td>29</td>\n",
       "      <td>31</td>\n",
       "    </tr>\n",
       "    <tr>\n",
       "      <th>29</th>\n",
       "      <td>30</td>\n",
       "      <td>Female</td>\n",
       "      <td>23</td>\n",
       "      <td>29</td>\n",
       "      <td>87</td>\n",
       "    </tr>\n",
       "    <tr>\n",
       "      <th>30</th>\n",
       "      <td>31</td>\n",
       "      <td>Male</td>\n",
       "      <td>60</td>\n",
       "      <td>30</td>\n",
       "      <td>4</td>\n",
       "    </tr>\n",
       "    <tr>\n",
       "      <th>31</th>\n",
       "      <td>32</td>\n",
       "      <td>Female</td>\n",
       "      <td>21</td>\n",
       "      <td>30</td>\n",
       "      <td>73</td>\n",
       "    </tr>\n",
       "    <tr>\n",
       "      <th>32</th>\n",
       "      <td>33</td>\n",
       "      <td>Male</td>\n",
       "      <td>53</td>\n",
       "      <td>33</td>\n",
       "      <td>4</td>\n",
       "    </tr>\n",
       "    <tr>\n",
       "      <th>33</th>\n",
       "      <td>34</td>\n",
       "      <td>Male</td>\n",
       "      <td>18</td>\n",
       "      <td>33</td>\n",
       "      <td>92</td>\n",
       "    </tr>\n",
       "    <tr>\n",
       "      <th>34</th>\n",
       "      <td>35</td>\n",
       "      <td>Female</td>\n",
       "      <td>49</td>\n",
       "      <td>33</td>\n",
       "      <td>14</td>\n",
       "    </tr>\n",
       "    <tr>\n",
       "      <th>35</th>\n",
       "      <td>36</td>\n",
       "      <td>Female</td>\n",
       "      <td>21</td>\n",
       "      <td>33</td>\n",
       "      <td>81</td>\n",
       "    </tr>\n",
       "    <tr>\n",
       "      <th>36</th>\n",
       "      <td>37</td>\n",
       "      <td>Female</td>\n",
       "      <td>42</td>\n",
       "      <td>34</td>\n",
       "      <td>17</td>\n",
       "    </tr>\n",
       "    <tr>\n",
       "      <th>37</th>\n",
       "      <td>38</td>\n",
       "      <td>Female</td>\n",
       "      <td>30</td>\n",
       "      <td>34</td>\n",
       "      <td>73</td>\n",
       "    </tr>\n",
       "    <tr>\n",
       "      <th>38</th>\n",
       "      <td>39</td>\n",
       "      <td>Female</td>\n",
       "      <td>36</td>\n",
       "      <td>37</td>\n",
       "      <td>26</td>\n",
       "    </tr>\n",
       "    <tr>\n",
       "      <th>39</th>\n",
       "      <td>40</td>\n",
       "      <td>Female</td>\n",
       "      <td>20</td>\n",
       "      <td>37</td>\n",
       "      <td>75</td>\n",
       "    </tr>\n",
       "    <tr>\n",
       "      <th>40</th>\n",
       "      <td>41</td>\n",
       "      <td>Female</td>\n",
       "      <td>65</td>\n",
       "      <td>38</td>\n",
       "      <td>35</td>\n",
       "    </tr>\n",
       "    <tr>\n",
       "      <th>41</th>\n",
       "      <td>42</td>\n",
       "      <td>Male</td>\n",
       "      <td>24</td>\n",
       "      <td>38</td>\n",
       "      <td>92</td>\n",
       "    </tr>\n",
       "    <tr>\n",
       "      <th>42</th>\n",
       "      <td>43</td>\n",
       "      <td>Male</td>\n",
       "      <td>48</td>\n",
       "      <td>39</td>\n",
       "      <td>36</td>\n",
       "    </tr>\n",
       "    <tr>\n",
       "      <th>43</th>\n",
       "      <td>44</td>\n",
       "      <td>Female</td>\n",
       "      <td>31</td>\n",
       "      <td>39</td>\n",
       "      <td>61</td>\n",
       "    </tr>\n",
       "    <tr>\n",
       "      <th>44</th>\n",
       "      <td>45</td>\n",
       "      <td>Female</td>\n",
       "      <td>49</td>\n",
       "      <td>39</td>\n",
       "      <td>28</td>\n",
       "    </tr>\n",
       "    <tr>\n",
       "      <th>45</th>\n",
       "      <td>46</td>\n",
       "      <td>Female</td>\n",
       "      <td>24</td>\n",
       "      <td>39</td>\n",
       "      <td>65</td>\n",
       "    </tr>\n",
       "    <tr>\n",
       "      <th>46</th>\n",
       "      <td>47</td>\n",
       "      <td>Female</td>\n",
       "      <td>50</td>\n",
       "      <td>40</td>\n",
       "      <td>55</td>\n",
       "    </tr>\n",
       "    <tr>\n",
       "      <th>47</th>\n",
       "      <td>48</td>\n",
       "      <td>Female</td>\n",
       "      <td>27</td>\n",
       "      <td>40</td>\n",
       "      <td>47</td>\n",
       "    </tr>\n",
       "    <tr>\n",
       "      <th>48</th>\n",
       "      <td>49</td>\n",
       "      <td>Female</td>\n",
       "      <td>29</td>\n",
       "      <td>40</td>\n",
       "      <td>42</td>\n",
       "    </tr>\n",
       "    <tr>\n",
       "      <th>49</th>\n",
       "      <td>50</td>\n",
       "      <td>Female</td>\n",
       "      <td>31</td>\n",
       "      <td>40</td>\n",
       "      <td>42</td>\n",
       "    </tr>\n",
       "  </tbody>\n",
       "</table>\n",
       "</div>"
      ],
      "text/plain": [
       "    ClienteID  Genero  Edad  Anual Salario(k$)  Puntaje Compras (1-100)\n",
       "0           1    Male    19                 15                       39\n",
       "1           2    Male    21                 15                       81\n",
       "2           3  Female    20                 16                        6\n",
       "3           4  Female    23                 16                       77\n",
       "4           5  Female    31                 17                       40\n",
       "5           6  Female    22                 17                       76\n",
       "6           7  Female    35                 18                        6\n",
       "7           8  Female    23                 18                       94\n",
       "8           9    Male    64                 19                        3\n",
       "9          10  Female    30                 19                       72\n",
       "10         11    Male    67                 19                       14\n",
       "11         12  Female    35                 19                       99\n",
       "12         13  Female    58                 20                       15\n",
       "13         14  Female    24                 20                       77\n",
       "14         15    Male    37                 20                       13\n",
       "15         16    Male    22                 20                       79\n",
       "16         17  Female    35                 21                       35\n",
       "17         18    Male    20                 21                       66\n",
       "18         19    Male    52                 23                       29\n",
       "19         20  Female    35                 23                       98\n",
       "20         21    Male    35                 24                       35\n",
       "21         22    Male    25                 24                       73\n",
       "22         23  Female    46                 25                        5\n",
       "23         24    Male    31                 25                       73\n",
       "24         25  Female    54                 28                       14\n",
       "25         26    Male    29                 28                       82\n",
       "26         27  Female    45                 28                       32\n",
       "27         28    Male    35                 28                       61\n",
       "28         29  Female    40                 29                       31\n",
       "29         30  Female    23                 29                       87\n",
       "30         31    Male    60                 30                        4\n",
       "31         32  Female    21                 30                       73\n",
       "32         33    Male    53                 33                        4\n",
       "33         34    Male    18                 33                       92\n",
       "34         35  Female    49                 33                       14\n",
       "35         36  Female    21                 33                       81\n",
       "36         37  Female    42                 34                       17\n",
       "37         38  Female    30                 34                       73\n",
       "38         39  Female    36                 37                       26\n",
       "39         40  Female    20                 37                       75\n",
       "40         41  Female    65                 38                       35\n",
       "41         42    Male    24                 38                       92\n",
       "42         43    Male    48                 39                       36\n",
       "43         44  Female    31                 39                       61\n",
       "44         45  Female    49                 39                       28\n",
       "45         46  Female    24                 39                       65\n",
       "46         47  Female    50                 40                       55\n",
       "47         48  Female    27                 40                       47\n",
       "48         49  Female    29                 40                       42\n",
       "49         50  Female    31                 40                       42"
      ]
     },
     "execution_count": 68,
     "metadata": {},
     "output_type": "execute_result"
    }
   ],
   "source": [
    "#1. Analisis Exploratorio de los Datos:\n",
    "\n",
    "data.head(50)"
   ]
  },
  {
   "cell_type": "code",
   "execution_count": 69,
   "id": "679019e9-71ac-498f-b010-8f73a91faf56",
   "metadata": {},
   "outputs": [
    {
     "data": {
      "text/html": [
       "<div>\n",
       "<style scoped>\n",
       "    .dataframe tbody tr th:only-of-type {\n",
       "        vertical-align: middle;\n",
       "    }\n",
       "\n",
       "    .dataframe tbody tr th {\n",
       "        vertical-align: top;\n",
       "    }\n",
       "\n",
       "    .dataframe thead th {\n",
       "        text-align: right;\n",
       "    }\n",
       "</style>\n",
       "<table border=\"1\" class=\"dataframe\">\n",
       "  <thead>\n",
       "    <tr style=\"text-align: right;\">\n",
       "      <th></th>\n",
       "      <th>ClienteID</th>\n",
       "      <th>Edad</th>\n",
       "      <th>Anual Salario(k$)</th>\n",
       "      <th>Puntaje Compras (1-100)</th>\n",
       "    </tr>\n",
       "  </thead>\n",
       "  <tbody>\n",
       "    <tr>\n",
       "      <th>count</th>\n",
       "      <td>200.000000</td>\n",
       "      <td>200.000000</td>\n",
       "      <td>200.000000</td>\n",
       "      <td>200.000000</td>\n",
       "    </tr>\n",
       "    <tr>\n",
       "      <th>mean</th>\n",
       "      <td>100.500000</td>\n",
       "      <td>38.850000</td>\n",
       "      <td>60.560000</td>\n",
       "      <td>50.200000</td>\n",
       "    </tr>\n",
       "    <tr>\n",
       "      <th>std</th>\n",
       "      <td>57.879185</td>\n",
       "      <td>13.969007</td>\n",
       "      <td>26.264721</td>\n",
       "      <td>25.823522</td>\n",
       "    </tr>\n",
       "    <tr>\n",
       "      <th>min</th>\n",
       "      <td>1.000000</td>\n",
       "      <td>18.000000</td>\n",
       "      <td>15.000000</td>\n",
       "      <td>1.000000</td>\n",
       "    </tr>\n",
       "    <tr>\n",
       "      <th>25%</th>\n",
       "      <td>50.750000</td>\n",
       "      <td>28.750000</td>\n",
       "      <td>41.500000</td>\n",
       "      <td>34.750000</td>\n",
       "    </tr>\n",
       "    <tr>\n",
       "      <th>50%</th>\n",
       "      <td>100.500000</td>\n",
       "      <td>36.000000</td>\n",
       "      <td>61.500000</td>\n",
       "      <td>50.000000</td>\n",
       "    </tr>\n",
       "    <tr>\n",
       "      <th>75%</th>\n",
       "      <td>150.250000</td>\n",
       "      <td>49.000000</td>\n",
       "      <td>78.000000</td>\n",
       "      <td>73.000000</td>\n",
       "    </tr>\n",
       "    <tr>\n",
       "      <th>max</th>\n",
       "      <td>200.000000</td>\n",
       "      <td>70.000000</td>\n",
       "      <td>137.000000</td>\n",
       "      <td>99.000000</td>\n",
       "    </tr>\n",
       "  </tbody>\n",
       "</table>\n",
       "</div>"
      ],
      "text/plain": [
       "        ClienteID        Edad  Anual Salario(k$)  Puntaje Compras (1-100)\n",
       "count  200.000000  200.000000         200.000000               200.000000\n",
       "mean   100.500000   38.850000          60.560000                50.200000\n",
       "std     57.879185   13.969007          26.264721                25.823522\n",
       "min      1.000000   18.000000          15.000000                 1.000000\n",
       "25%     50.750000   28.750000          41.500000                34.750000\n",
       "50%    100.500000   36.000000          61.500000                50.000000\n",
       "75%    150.250000   49.000000          78.000000                73.000000\n",
       "max    200.000000   70.000000         137.000000                99.000000"
      ]
     },
     "execution_count": 69,
     "metadata": {},
     "output_type": "execute_result"
    }
   ],
   "source": [
    "#Descripcion de los datos\n",
    "\n",
    "data.describe()"
   ]
  },
  {
   "cell_type": "code",
   "execution_count": 70,
   "id": "11e83996-b22a-4276-84bb-15633be21eb4",
   "metadata": {},
   "outputs": [
    {
     "data": {
      "text/html": [
       "<div>\n",
       "<style scoped>\n",
       "    .dataframe tbody tr th:only-of-type {\n",
       "        vertical-align: middle;\n",
       "    }\n",
       "\n",
       "    .dataframe tbody tr th {\n",
       "        vertical-align: top;\n",
       "    }\n",
       "\n",
       "    .dataframe thead th {\n",
       "        text-align: right;\n",
       "    }\n",
       "</style>\n",
       "<table border=\"1\" class=\"dataframe\">\n",
       "  <thead>\n",
       "    <tr style=\"text-align: right;\">\n",
       "      <th></th>\n",
       "      <th>ClienteID</th>\n",
       "      <th>Edad</th>\n",
       "      <th>Anual Salario(k$)</th>\n",
       "      <th>Puntaje Compras (1-100)</th>\n",
       "    </tr>\n",
       "  </thead>\n",
       "  <tbody>\n",
       "    <tr>\n",
       "      <th>count</th>\n",
       "      <td>200</td>\n",
       "      <td>200</td>\n",
       "      <td>200</td>\n",
       "      <td>200</td>\n",
       "    </tr>\n",
       "    <tr>\n",
       "      <th>mean</th>\n",
       "      <td>100.5</td>\n",
       "      <td>38.85</td>\n",
       "      <td>60.56</td>\n",
       "      <td>50.2</td>\n",
       "    </tr>\n",
       "    <tr>\n",
       "      <th>std</th>\n",
       "      <td>57.8792</td>\n",
       "      <td>13.969</td>\n",
       "      <td>26.2647</td>\n",
       "      <td>25.8235</td>\n",
       "    </tr>\n",
       "    <tr>\n",
       "      <th>min</th>\n",
       "      <td>1</td>\n",
       "      <td>18</td>\n",
       "      <td>15</td>\n",
       "      <td>1</td>\n",
       "    </tr>\n",
       "    <tr>\n",
       "      <th>25%</th>\n",
       "      <td>50.75</td>\n",
       "      <td>28.75</td>\n",
       "      <td>41.5</td>\n",
       "      <td>34.75</td>\n",
       "    </tr>\n",
       "    <tr>\n",
       "      <th>50%</th>\n",
       "      <td>100.5</td>\n",
       "      <td>36</td>\n",
       "      <td>61.5</td>\n",
       "      <td>50</td>\n",
       "    </tr>\n",
       "    <tr>\n",
       "      <th>75%</th>\n",
       "      <td>150.25</td>\n",
       "      <td>49</td>\n",
       "      <td>78</td>\n",
       "      <td>73</td>\n",
       "    </tr>\n",
       "    <tr>\n",
       "      <th>max</th>\n",
       "      <td>200</td>\n",
       "      <td>70</td>\n",
       "      <td>137</td>\n",
       "      <td>99</td>\n",
       "    </tr>\n",
       "  </tbody>\n",
       "</table>\n",
       "</div>"
      ],
      "text/plain": [
       "      ClienteID    Edad Anual Salario(k$) Puntaje Compras (1-100)\n",
       "count       200     200               200                     200\n",
       "mean      100.5   38.85             60.56                    50.2\n",
       "std     57.8792  13.969           26.2647                 25.8235\n",
       "min           1      18                15                       1\n",
       "25%       50.75   28.75              41.5                   34.75\n",
       "50%       100.5      36              61.5                      50\n",
       "75%      150.25      49                78                      73\n",
       "max         200      70               137                      99"
      ]
     },
     "execution_count": 70,
     "metadata": {},
     "output_type": "execute_result"
    }
   ],
   "source": [
    "#2. Preprocesar los datos limpiándolos:\n",
    "\n",
    "data.describe().apply(lambda s: s.apply(lambda x: format(x, 'g')))"
   ]
  },
  {
   "cell_type": "code",
   "execution_count": 71,
   "id": "87ffc19e-6d71-4ef5-8955-49b2ec982085",
   "metadata": {},
   "outputs": [
    {
     "data": {
      "text/plain": [
       "Text(0.5, 1.0, 'Identificación Datos Faltantes')"
      ]
     },
     "execution_count": 71,
     "metadata": {},
     "output_type": "execute_result"
    },
    {
     "data": {
      "image/png": "[encoded data removed]",
      "text/plain": [
       "<Figure size 600x300 with 1 Axes>"
      ]
     },
     "metadata": {},
     "output_type": "display_data"
    }
   ],
   "source": [
    "# Grafico para identificar valores faltantes\n",
    "\n",
    "plt.figure(figsize=(6, 3))\n",
    "sns.boxplot(x=data['Edad'])\n",
    "plt.title('Identificación Datos Faltantes', fontsize=10)"
   ]
  },
  {
   "cell_type": "code",
   "execution_count": 72,
   "id": "a16708c9-4bb3-46eb-8e3a-710d1feb7a81",
   "metadata": {},
   "outputs": [
    {
     "name": "stdout",
     "output_type": "stream",
     "text": [
      "Edad:  0\n",
      "Salario Anual:  0\n",
      "Puntaje de Credito:  0\n"
     ]
    }
   ],
   "source": [
    "#Revisamos Datos Faltantes\n",
    "\n",
    "print (\"Edad: \",data['Edad'].isin([0]).sum())\n",
    "print (\"Salario Anual: \",data['Anual Salario(k$)'].isin([0]).sum())\n",
    "print (\"Puntaje de Credito: \",data['Puntaje Compras (1-100)'].isin([0]).sum())"
   ]
  },
  {
   "cell_type": "code",
   "execution_count": 73,
   "id": "80a29324-3c80-41c6-8387-13a8ac74fde3",
   "metadata": {},
   "outputs": [
    {
     "data": {
      "text/plain": [
       "Text(0.5, 1.0, 'Identificación Datos Atípicos')"
      ]
     },
     "execution_count": 73,
     "metadata": {},
     "output_type": "execute_result"
    },
    {
     "data": {
      "image/png": "[encoded data removed]",
      "text/plain": [
       "<Figure size 600x300 with 1 Axes>"
      ]
     },
     "metadata": {},
     "output_type": "display_data"
    }
   ],
   "source": [
    "# Grafico para identificar valores Atípicos\n",
    "\n",
    "plt.figure(figsize=(6, 3))\n",
    "sns.boxplot(x=data['Anual Salario(k$)'])\n",
    "plt.title('Identificación Datos Atípicos', fontsize=10)"
   ]
  },
  {
   "cell_type": "code",
   "execution_count": 74,
   "id": "1e6a28bc-e910-4380-80b6-4fb912dc0efa",
   "metadata": {},
   "outputs": [
    {
     "name": "stdout",
     "output_type": "stream",
     "text": [
      "<class 'pandas.core.frame.DataFrame'>\n",
      "RangeIndex: 200 entries, 0 to 199\n",
      "Data columns (total 5 columns):\n",
      " #   Column                   Non-Null Count  Dtype \n",
      "---  ------                   --------------  ----- \n",
      " 0   ClienteID                200 non-null    int64 \n",
      " 1   Genero                   200 non-null    object\n",
      " 2   Edad                     200 non-null    int64 \n",
      " 3   Anual Salario(k$)        200 non-null    int64 \n",
      " 4   Puntaje Compras (1-100)  200 non-null    int64 \n",
      "dtypes: int64(4), object(1)\n",
      "memory usage: 7.9+ KB\n"
     ]
    }
   ],
   "source": [
    "data.info()"
   ]
  },
  {
   "cell_type": "code",
   "execution_count": 75,
   "id": "0d9f2da0-bf9c-44d4-8954-48bbd4a7273f",
   "metadata": {},
   "outputs": [
    {
     "name": "stdout",
     "output_type": "stream",
     "text": [
      "El total de datos atipicos es: 5\n"
     ]
    }
   ],
   "source": [
    "hr_min=5\n",
    "hr_max=100\n",
    "total_atipicos=((data['Puntaje Compras (1-100)']<hr_min)|(data['Puntaje Compras (1-100)']>hr_max)).sum()\n",
    "print(\"El total de datos atipicos es: {}\".format(total_atipicos))"
   ]
  },
  {
   "cell_type": "code",
   "execution_count": 76,
   "id": "cde878ef-c7f5-494d-bc1b-29e33b9b3b14",
   "metadata": {},
   "outputs": [],
   "source": [
    "data=data[(data['Puntaje Compras (1-100)']<hr_max)&(data['Puntaje Compras (1-100)']>hr_min)]"
   ]
  },
  {
   "cell_type": "code",
   "execution_count": 77,
   "id": "666bf313-fe74-4a11-a381-7a11080a9103",
   "metadata": {},
   "outputs": [
    {
     "name": "stdout",
     "output_type": "stream",
     "text": [
      "El total de datos atipicos es: 0\n"
     ]
    }
   ],
   "source": [
    "hr_min=5\n",
    "hr_max=100\n",
    "total_atipicos=((data['Puntaje Compras (1-100)']<hr_min)|(data['Puntaje Compras (1-100)']>hr_max)).sum()\n",
    "print(\"El total de datos atipicos es: {}\".format(total_atipicos))"
   ]
  },
  {
   "cell_type": "markdown",
   "id": "31dc4ee5-fd5f-46dd-bbaa-d309b591565f",
   "metadata": {},
   "source": [
    "Se revisan los valores mas importantes que son la Edad, Salario y Puntaje de Credito, pero no hay valores fuera del rango normal."
   ]
  },
  {
   "cell_type": "code",
   "execution_count": 78,
   "id": "ea7acc81-0b4a-4f55-b5d7-521fc0daae86",
   "metadata": {},
   "outputs": [],
   "source": [
    "#3. Seleccionar las características más relevantes para entrenar:\n",
    "#El objetivo es analizar el puntaje de credito de los clientes segun su edad y el salario que ganan.\n",
    "\n",
    "data=data[['Edad','Anual Salario(k$)','Puntaje Compras (1-100)']]"
   ]
  },
  {
   "cell_type": "code",
   "execution_count": 79,
   "id": "10a1e1d2-45f5-41f6-b220-3546b037157e",
   "metadata": {},
   "outputs": [
    {
     "data": {
      "text/html": [
       "<div>\n",
       "<style scoped>\n",
       "    .dataframe tbody tr th:only-of-type {\n",
       "        vertical-align: middle;\n",
       "    }\n",
       "\n",
       "    .dataframe tbody tr th {\n",
       "        vertical-align: top;\n",
       "    }\n",
       "\n",
       "    .dataframe thead th {\n",
       "        text-align: right;\n",
       "    }\n",
       "</style>\n",
       "<table border=\"1\" class=\"dataframe\">\n",
       "  <thead>\n",
       "    <tr style=\"text-align: right;\">\n",
       "      <th></th>\n",
       "      <th>Edad</th>\n",
       "      <th>Anual Salario(k$)</th>\n",
       "      <th>Puntaje Compras (1-100)</th>\n",
       "    </tr>\n",
       "  </thead>\n",
       "  <tbody>\n",
       "    <tr>\n",
       "      <th>0</th>\n",
       "      <td>19</td>\n",
       "      <td>15</td>\n",
       "      <td>39</td>\n",
       "    </tr>\n",
       "    <tr>\n",
       "      <th>1</th>\n",
       "      <td>21</td>\n",
       "      <td>15</td>\n",
       "      <td>81</td>\n",
       "    </tr>\n",
       "    <tr>\n",
       "      <th>2</th>\n",
       "      <td>20</td>\n",
       "      <td>16</td>\n",
       "      <td>6</td>\n",
       "    </tr>\n",
       "    <tr>\n",
       "      <th>3</th>\n",
       "      <td>23</td>\n",
       "      <td>16</td>\n",
       "      <td>77</td>\n",
       "    </tr>\n",
       "    <tr>\n",
       "      <th>4</th>\n",
       "      <td>31</td>\n",
       "      <td>17</td>\n",
       "      <td>40</td>\n",
       "    </tr>\n",
       "    <tr>\n",
       "      <th>5</th>\n",
       "      <td>22</td>\n",
       "      <td>17</td>\n",
       "      <td>76</td>\n",
       "    </tr>\n",
       "    <tr>\n",
       "      <th>6</th>\n",
       "      <td>35</td>\n",
       "      <td>18</td>\n",
       "      <td>6</td>\n",
       "    </tr>\n",
       "    <tr>\n",
       "      <th>7</th>\n",
       "      <td>23</td>\n",
       "      <td>18</td>\n",
       "      <td>94</td>\n",
       "    </tr>\n",
       "    <tr>\n",
       "      <th>9</th>\n",
       "      <td>30</td>\n",
       "      <td>19</td>\n",
       "      <td>72</td>\n",
       "    </tr>\n",
       "    <tr>\n",
       "      <th>10</th>\n",
       "      <td>67</td>\n",
       "      <td>19</td>\n",
       "      <td>14</td>\n",
       "    </tr>\n",
       "    <tr>\n",
       "      <th>11</th>\n",
       "      <td>35</td>\n",
       "      <td>19</td>\n",
       "      <td>99</td>\n",
       "    </tr>\n",
       "    <tr>\n",
       "      <th>12</th>\n",
       "      <td>58</td>\n",
       "      <td>20</td>\n",
       "      <td>15</td>\n",
       "    </tr>\n",
       "    <tr>\n",
       "      <th>13</th>\n",
       "      <td>24</td>\n",
       "      <td>20</td>\n",
       "      <td>77</td>\n",
       "    </tr>\n",
       "    <tr>\n",
       "      <th>14</th>\n",
       "      <td>37</td>\n",
       "      <td>20</td>\n",
       "      <td>13</td>\n",
       "    </tr>\n",
       "    <tr>\n",
       "      <th>15</th>\n",
       "      <td>22</td>\n",
       "      <td>20</td>\n",
       "      <td>79</td>\n",
       "    </tr>\n",
       "    <tr>\n",
       "      <th>16</th>\n",
       "      <td>35</td>\n",
       "      <td>21</td>\n",
       "      <td>35</td>\n",
       "    </tr>\n",
       "    <tr>\n",
       "      <th>17</th>\n",
       "      <td>20</td>\n",
       "      <td>21</td>\n",
       "      <td>66</td>\n",
       "    </tr>\n",
       "    <tr>\n",
       "      <th>18</th>\n",
       "      <td>52</td>\n",
       "      <td>23</td>\n",
       "      <td>29</td>\n",
       "    </tr>\n",
       "    <tr>\n",
       "      <th>19</th>\n",
       "      <td>35</td>\n",
       "      <td>23</td>\n",
       "      <td>98</td>\n",
       "    </tr>\n",
       "    <tr>\n",
       "      <th>20</th>\n",
       "      <td>35</td>\n",
       "      <td>24</td>\n",
       "      <td>35</td>\n",
       "    </tr>\n",
       "  </tbody>\n",
       "</table>\n",
       "</div>"
      ],
      "text/plain": [
       "    Edad  Anual Salario(k$)  Puntaje Compras (1-100)\n",
       "0     19                 15                       39\n",
       "1     21                 15                       81\n",
       "2     20                 16                        6\n",
       "3     23                 16                       77\n",
       "4     31                 17                       40\n",
       "5     22                 17                       76\n",
       "6     35                 18                        6\n",
       "7     23                 18                       94\n",
       "9     30                 19                       72\n",
       "10    67                 19                       14\n",
       "11    35                 19                       99\n",
       "12    58                 20                       15\n",
       "13    24                 20                       77\n",
       "14    37                 20                       13\n",
       "15    22                 20                       79\n",
       "16    35                 21                       35\n",
       "17    20                 21                       66\n",
       "18    52                 23                       29\n",
       "19    35                 23                       98\n",
       "20    35                 24                       35"
      ]
     },
     "execution_count": 79,
     "metadata": {},
     "output_type": "execute_result"
    }
   ],
   "source": [
    "data.head(20)"
   ]
  },
  {
   "cell_type": "code",
   "execution_count": 80,
   "id": "6d15f890-c3af-4695-ac8d-08c265256d2b",
   "metadata": {},
   "outputs": [
    {
     "data": {
      "text/plain": [
       "<function matplotlib.pyplot.show(close=None, block=None)>"
      ]
     },
     "execution_count": 80,
     "metadata": {},
     "output_type": "execute_result"
    },
    {
     "data": {
      "image/png": "[encoded data removed]",
      "text/plain": [
       "<Figure size 640x480 with 1 Axes>"
      ]
     },
     "metadata": {},
     "output_type": "display_data"
    }
   ],
   "source": [
    "#Grafica del agrupamiento de datos\n",
    "\n",
    "plt.scatter(data['Anual Salario(k$)'], data['Puntaje Compras (1-100)'])\n",
    "plt.xlabel('Anual Salario(k$)')\n",
    "plt.ylabel('Puntaje Compras (1-100)')\n",
    "plt.title('Salario vs Puntaje')\n",
    "plt.show"
   ]
  },
  {
   "cell_type": "code",
   "execution_count": 81,
   "id": "568f1ffe-45ab-4798-acce-1eaa361be4d4",
   "metadata": {},
   "outputs": [
    {
     "data": {
      "image/png": "[encoded data removed]",
      "text/plain": [
       "<Figure size 640x480 with 1 Axes>"
      ]
     },
     "metadata": {},
     "output_type": "display_data"
    }
   ],
   "source": [
    "#4. Entrenamos el modelo con los parametros para encontrar el K-means\n",
    "\n",
    "#Grafica de codo para identificar el valor de K\n",
    "Nc = range(1, 10)\n",
    "kmeans = [KMeans(n_clusters=i) for i in Nc]\n",
    "kmeans\n",
    "score = [kmeans[i].fit(data).score(data) for i in range(len(kmeans))]\n",
    "score\n",
    "plt.plot(Nc,score, marker='o')\n",
    "plt.xlabel('Número de Clusters')\n",
    "plt.ylabel('Score')\n",
    "plt.title('Elbow Curve')\n",
    "plt.show()\n",
    "\n",
    "#La tendencia del angulo es menos marcada entre 8 y 9"
   ]
  },
  {
   "cell_type": "code",
   "execution_count": 82,
   "id": "712b9860-969a-4d31-b29b-402d944c8322",
   "metadata": {},
   "outputs": [
    {
     "data": {
      "text/html": [
       "<style>#sk-container-id-2 {color: black;background-color: white;}#sk-container-id-2 pre{padding: 0;}#sk-container-id-2 div.sk-toggleable {background-color: white;}#sk-container-id-2 label.sk-toggleable__label {cursor: pointer;display: block;width: 100%;margin-bottom: 0;padding: 0.3em;box-sizing: border-box;text-align: center;}#sk-container-id-2 label.sk-toggleable__label-arrow:before {content: \"▸\";float: left;margin-right: 0.25em;color: #696969;}#sk-container-id-2 label.sk-toggleable__label-arrow:hover:before {color: black;}#sk-container-id-2 div.sk-estimator:hover label.sk-toggleable__label-arrow:before {color: black;}#sk-container-id-2 div.sk-toggleable__content {max-height: 0;max-width: 0;overflow: hidden;text-align: left;background-color: #f0f8ff;}#sk-container-id-2 div.sk-toggleable__content pre {margin: 0.2em;color: black;border-radius: 0.25em;background-color: #f0f8ff;}#sk-container-id-2 input.sk-toggleable__control:checked~div.sk-toggleable__content {max-height: 200px;max-width: 100%;overflow: auto;}#sk-container-id-2 input.sk-toggleable__control:checked~label.sk-toggleable__label-arrow:before {content: \"▾\";}#sk-container-id-2 div.sk-estimator input.sk-toggleable__control:checked~label.sk-toggleable__label {background-color: #d4ebff;}#sk-container-id-2 div.sk-label input.sk-toggleable__control:checked~label.sk-toggleable__label {background-color: #d4ebff;}#sk-container-id-2 input.sk-hidden--visually {border: 0;clip: rect(1px 1px 1px 1px);clip: rect(1px, 1px, 1px, 1px);height: 1px;margin: -1px;overflow: hidden;padding: 0;position: absolute;width: 1px;}#sk-container-id-2 div.sk-estimator {font-family: monospace;background-color: #f0f8ff;border: 1px dotted black;border-radius: 0.25em;box-sizing: border-box;margin-bottom: 0.5em;}#sk-container-id-2 div.sk-estimator:hover {background-color: #d4ebff;}#sk-container-id-2 div.sk-parallel-item::after {content: \"\";width: 100%;border-bottom: 1px solid gray;flex-grow: 1;}#sk-container-id-2 div.sk-label:hover label.sk-toggleable__label {background-color: #d4ebff;}#sk-container-id-2 div.sk-serial::before {content: \"\";position: absolute;border-left: 1px solid gray;box-sizing: border-box;top: 0;bottom: 0;left: 50%;z-index: 0;}#sk-container-id-2 div.sk-serial {display: flex;flex-direction: column;align-items: center;background-color: white;padding-right: 0.2em;padding-left: 0.2em;position: relative;}#sk-container-id-2 div.sk-item {position: relative;z-index: 1;}#sk-container-id-2 div.sk-parallel {display: flex;align-items: stretch;justify-content: center;background-color: white;position: relative;}#sk-container-id-2 div.sk-item::before, #sk-container-id-2 div.sk-parallel-item::before {content: \"\";position: absolute;border-left: 1px solid gray;box-sizing: border-box;top: 0;bottom: 0;left: 50%;z-index: -1;}#sk-container-id-2 div.sk-parallel-item {display: flex;flex-direction: column;z-index: 1;position: relative;background-color: white;}#sk-container-id-2 div.sk-parallel-item:first-child::after {align-self: flex-end;width: 50%;}#sk-container-id-2 div.sk-parallel-item:last-child::after {align-self: flex-start;width: 50%;}#sk-container-id-2 div.sk-parallel-item:only-child::after {width: 0;}#sk-container-id-2 div.sk-dashed-wrapped {border: 1px dashed gray;margin: 0 0.4em 0.5em 0.4em;box-sizing: border-box;padding-bottom: 0.4em;background-color: white;}#sk-container-id-2 div.sk-label label {font-family: monospace;font-weight: bold;display: inline-block;line-height: 1.2em;}#sk-container-id-2 div.sk-label-container {text-align: center;}#sk-container-id-2 div.sk-container {/* jupyter's `normalize.less` sets `[hidden] { display: none; }` but bootstrap.min.css set `[hidden] { display: none !important; }` so we also need the `!important` here to be able to override the default hidden behavior on the sphinx rendered scikit-learn.org. See: https://github.com/scikit-learn/scikit-learn/issues/21755 */display: inline-block !important;position: relative;}#sk-container-id-2 div.sk-text-repr-fallback {display: none;}</style><div id=\"sk-container-id-2\" class=\"sk-top-container\"><div class=\"sk-text-repr-fallback\"><pre>KMeans(n_clusters=9, random_state=0)</pre><b>In a Jupyter environment, please rerun this cell to show the HTML representation or trust the notebook. <br />On GitHub, the HTML representation is unable to render, please try loading this page with nbviewer.org.</b></div><div class=\"sk-container\" hidden><div class=\"sk-item\"><div class=\"sk-estimator sk-toggleable\"><input class=\"sk-toggleable__control sk-hidden--visually\" id=\"sk-estimator-id-2\" type=\"checkbox\" checked><label for=\"sk-estimator-id-2\" class=\"sk-toggleable__label sk-toggleable__label-arrow\">KMeans</label><div class=\"sk-toggleable__content\"><pre>KMeans(n_clusters=9, random_state=0)</pre></div></div></div></div></div>"
      ],
      "text/plain": [
       "KMeans(n_clusters=9, random_state=0)"
      ]
     },
     "execution_count": 82,
     "metadata": {},
     "output_type": "execute_result"
    }
   ],
   "source": [
    "#Generacion del modelo de agrupamiento con K = 9 \n",
    "\n",
    "modelo = KMeans(n_clusters=9, random_state=0)\n",
    "modelo.fit(data)"
   ]
  },
  {
   "cell_type": "code",
   "execution_count": 83,
   "id": "0991780d-9b6d-4818-b032-7638dfe8ed11",
   "metadata": {},
   "outputs": [
    {
     "name": "stdout",
     "output_type": "stream",
     "text": [
      "     Edad  Anual Salario(k$)  Puntaje Compras (1-100)  Grupo\n",
      "0      19                 15                       39      5\n",
      "1      21                 15                       81      3\n",
      "2      20                 16                        6      5\n",
      "3      23                 16                       77      3\n",
      "4      31                 17                       40      5\n",
      "..    ...                ...                      ...    ...\n",
      "195    35                120                       79      0\n",
      "196    45                126                       28      7\n",
      "197    32                126                       74      0\n",
      "198    32                137                       18      7\n",
      "199    30                137                       83      0\n",
      "\n",
      "[191 rows x 4 columns]\n"
     ]
    }
   ],
   "source": [
    "#Se añade la columna Grupo a los datos para identificar el numero de grupo del agrupamiento\n",
    "\n",
    "modelo.labels_\n",
    "data['Grupo'] = modelo.labels_\n",
    "print(data)"
   ]
  },
  {
   "cell_type": "code",
   "execution_count": 84,
   "id": "f3c85754-a257-4383-97c0-19f224589f65",
   "metadata": {},
   "outputs": [],
   "source": [
    "#5. Evaluar el desempeño del modelo con métricas como Coeficiente de Silhouette, Índice de Calinski-Harabasz.\n",
    "\n",
    "#Preparacion de la metrica de la columna Grupo\n",
    "\n",
    "observaciones = len(data)\n",
    "x= data.drop('Grupo', axis=1)\n",
    "clusters = data['Grupo']"
   ]
  },
  {
   "cell_type": "code",
   "execution_count": 85,
   "id": "3854c411-66d5-4f5b-89ef-cd76414555e5",
   "metadata": {},
   "outputs": [],
   "source": [
    "#Se calculan las metricas\n",
    "sil_score = silhouette_score (x, clusters)\n",
    "calinski_score = calinski_harabasz_score(x, clusters)\n",
    "davies_score = davies_bouldin_score (x, clusters)"
   ]
  },
  {
   "cell_type": "code",
   "execution_count": 86,
   "id": "32e80ec6-560d-474f-ae0f-6bfa36378869",
   "metadata": {},
   "outputs": [],
   "source": [
    "# se crea una tabla para mostrar los valores de las metricas\n",
    "\n",
    "table_datos=[\n",
    "    ['Numero de Observaciones', observaciones],\n",
    "    ['Coeficiente Silhouette', sil_score],\n",
    "    ['Indice Calinski Harabasz', calinski_score],\n",
    "    ['Indice Davis Bouldin', davies_score]\n",
    "]"
   ]
  },
  {
   "cell_type": "code",
   "execution_count": 87,
   "id": "b88548b9-f122-4e58-8411-e3bde93f8b58",
   "metadata": {},
   "outputs": [
    {
     "name": "stdout",
     "output_type": "stream",
     "text": [
      "+--------------------------+---------------------+\n",
      "|          Metric          |        Value        |\n",
      "+--------------------------+---------------------+\n",
      "| Numero de Observaciones  |         191         |\n",
      "|  Coeficiente Silhouette  | 0.39296830461683274 |\n",
      "| Indice Calinski Harabasz | 152.28835725513537  |\n",
      "|   Indice Davis Bouldin   |  0.910308670415573  |\n",
      "+--------------------------+---------------------+\n"
     ]
    }
   ],
   "source": [
    "#Imprime la tabla\n",
    "from tabulate import tabulate\n",
    "print (tabulate(table_datos, headers=['Metric', 'Value'], tablefmt='pretty'))"
   ]
  },
  {
   "cell_type": "code",
   "execution_count": 88,
   "id": "58a427c4-8eaf-47f2-b6d7-8608041b123c",
   "metadata": {},
   "outputs": [
    {
     "data": {
      "text/plain": [
       "<function matplotlib.pyplot.show(close=None, block=None)>"
      ]
     },
     "execution_count": 88,
     "metadata": {},
     "output_type": "execute_result"
    },
    {
     "data": {
      "image/png": "[encoded data removed]",
      "text/plain": [
       "<Figure size 640x480 with 1 Axes>"
      ]
     },
     "metadata": {},
     "output_type": "display_data"
    }
   ],
   "source": [
    "#6. Realizar las diferentes gráficas que permitan visualizar los resultados del modelo\n",
    "\n",
    "plt.scatter(data['Anual Salario(k$)'], data['Puntaje Compras (1-100)'], c = data['Grupo'], cmap = 'viridis')\n",
    "plt.xlabel('Salario Anual')\n",
    "plt.ylabel('Puntaje Compras')\n",
    "plt.title('Grupo de clientes')\n",
    "plt.show"
   ]
  },
  {
   "cell_type": "code",
   "execution_count": 89,
   "id": "7047fe21-1a0b-4f21-994c-35a1cf6af13d",
   "metadata": {},
   "outputs": [
    {
     "data": {
      "text/plain": [
       "array([[39.80672269, 44.7394958 , 51.3697479 ],\n",
       "       [32.69230769, 86.53846154, 82.12820513],\n",
       "       [41.45454545, 88.51515152, 20.93939394]])"
      ]
     },
     "execution_count": 89,
     "metadata": {},
     "output_type": "execute_result"
    }
   ],
   "source": [
    "kmeans = KMeans(n_clusters=3).fit(x)\n",
    "centroids = kmeans.cluster_centers_\n",
    "centroids\n"
   ]
  },
  {
   "cell_type": "code",
   "execution_count": 90,
   "id": "f0c03375-dd7c-4cfb-bbe4-1660c59013f7",
   "metadata": {},
   "outputs": [],
   "source": [
    "# Obtenemos las etiquetas de cada punto de nuestros datos\n",
    "labels = kmeans.labels_\n",
    "# Obtenemos los centroids\n",
    "C = kmeans.cluster_centers_"
   ]
  },
  {
   "cell_type": "code",
   "execution_count": 95,
   "id": "9e17204d-f67f-443f-a1ba-26e06a194bea",
   "metadata": {},
   "outputs": [
    {
     "name": "stdout",
     "output_type": "stream",
     "text": [
      "Medidas de calidad para K-Means:\n",
      "Puntaje de silueta: 0.3914710821542017\n",
      "Índice de Calinski-Harabasz: 110.0608144645215\n",
      "Inertia (suma de cuadrados dentro de los clusters): 128911.87208869564\n",
      "Davies-Bouldin Index: 0.8550421495438126\n"
     ]
    }
   ],
   "source": [
    "# Calcular medidas de calidad para K-Means\n",
    "print(\"Medidas de calidad para K-Means:\")\n",
    "print(\"Puntaje de silueta:\", metrics.silhouette_score(x, labels))\n",
    "print(\"Índice de Calinski-Harabasz:\", metrics.calinski_harabasz_score(x, labels))\n",
    "print(\"Inertia (suma de cuadrados dentro de los clusters):\", kmeans.inertia_)\n",
    "print(\"Davies-Bouldin Index:\", metrics.davies_bouldin_score(x, labels))"
   ]
  },
  {
   "cell_type": "markdown",
   "id": "47b95446-ab38-49b7-b6f9-e07ce9550d82",
   "metadata": {},
   "source": [
    "#8. Interpretar, analizar y documentar los resultados obtenidos\n",
    "\n",
    "Segun los resultados obtenidos por el K-mean de 9 cluster y las graficas podemos concluir lo siguiente:\n",
    "\n",
    "- El Mayor numero de personas que tienen un ingreso anual entre 40K y 70K, estan calificados son un puntaje de compras entre 4/10 y 6/10 puntos.\n",
    "- Encontramos dos grupos de clientes que poseen el mayor puntaje de compras, pero no necesariamente son los que mas ganan, el primer grupo tiene un ingreso entre 10k y 40k, el segundo grupo tienen un ingreso anual entre 70k y 100k.\n",
    "- El puntaje de Siluta es un poco bajo ya que su resultado es de 0.4 y lo ideal es que este mas cerca de 1.\n",
    "- El indice de Davies Bouldin es de 0.85 los cual es un poco alto ya que se acerca mas a 1 y se puede entender que hay bastante separacion entre los cluster."
   ]
  },
  {
   "cell_type": "code",
   "execution_count": 91,
   "id": "444b53ac-1933-468d-bf46-c868ae1c54ac",
   "metadata": {},
   "outputs": [
    {
     "data": {
      "application/vnd.plotly.v1+json": {
       "config": {
        "plotlyServerURL": "https://plot.ly"
       },
       "data": [
        {
         "hovertemplate": "Grupo=%{marker.color}<br>Anual Salario(k$)=%{x}<br>Puntaje Compras (1-100)=%{y}<br>Edad=%{z}<extra></extra>",
         "legendgroup": "5",
         "marker": {
          "color": [
           5,
           5,
           5,
           5,
           5,
           5,
           5,
           5,
           5,
           5,
           5,
           5,
           5,
           5,
           5,
           5,
           5,
           5
          ],
          "coloraxis": "coloraxis",
          "opacity": 0.7,
          "symbol": "circle"
         },
         "mode": "markers",
         "name": "5",
         "scene": "scene",
         "showlegend": true,
         "type": "scatter3d",
         "x": [
          15,
          16,
          17,
          18,
          19,
          20,
          20,
          21,
          23,
          24,
          28,
          28,
          29,
          33,
          34,
          37,
          39,
          39
         ],
         "y": [
          39,
          6,
          40,
          6,
          14,
          15,
          13,
          35,
          29,
          35,
          14,
          32,
          31,
          14,
          17,
          26,
          36,
          28
         ],
         "z": [
          19,
          20,
          31,
          35,
          67,
          58,
          37,
          35,
          52,
          35,
          54,
          45,
          40,
          49,
          42,
          36,
          48,
          49
         ]
        },
        {
         "hovertemplate": "Grupo=%{marker.color}<br>Anual Salario(k$)=%{x}<br>Puntaje Compras (1-100)=%{y}<br>Edad=%{z}<extra></extra>",
         "legendgroup": "3",
         "marker": {
          "color": [
           3,
           3,
           3,
           3,
           3,
           3,
           3,
           3,
           3,
           3,
           3,
           3,
           3,
           3,
           3,
           3,
           3,
           3,
           3,
           3
          ],
          "coloraxis": "coloraxis",
          "opacity": 0.7,
          "symbol": "circle"
         },
         "mode": "markers",
         "name": "3",
         "scene": "scene",
         "showlegend": true,
         "type": "scatter3d",
         "x": [
          15,
          16,
          17,
          18,
          19,
          19,
          20,
          20,
          21,
          23,
          24,
          25,
          28,
          29,
          30,
          33,
          33,
          34,
          37,
          38
         ],
         "y": [
          81,
          77,
          76,
          94,
          72,
          99,
          77,
          79,
          66,
          98,
          73,
          73,
          82,
          87,
          73,
          92,
          81,
          73,
          75,
          92
         ],
         "z": [
          21,
          23,
          22,
          23,
          30,
          35,
          24,
          22,
          20,
          35,
          25,
          31,
          29,
          23,
          21,
          18,
          21,
          30,
          20,
          24
         ]
        },
        {
         "hovertemplate": "Grupo=%{marker.color}<br>Anual Salario(k$)=%{x}<br>Puntaje Compras (1-100)=%{y}<br>Edad=%{z}<extra></extra>",
         "legendgroup": "1",
         "marker": {
          "color": [
           1,
           1,
           1,
           1,
           1,
           1,
           1,
           1,
           1,
           1,
           1,
           1,
           1,
           1,
           1,
           1,
           1,
           1,
           1,
           1
          ],
          "coloraxis": "coloraxis",
          "opacity": 0.7,
          "symbol": "circle"
         },
         "mode": "markers",
         "name": "1",
         "scene": "scene",
         "showlegend": true,
         "type": "scatter3d",
         "x": [
          28,
          39,
          39,
          40,
          40,
          40,
          42,
          43,
          46,
          46,
          48,
          48,
          48,
          48,
          54,
          54,
          54,
          54,
          54,
          58
         ],
         "y": [
          61,
          61,
          65,
          47,
          42,
          42,
          60,
          54,
          51,
          55,
          59,
          50,
          59,
          47,
          54,
          48,
          52,
          55,
          57,
          60
         ],
         "z": [
          35,
          31,
          24,
          27,
          29,
          31,
          33,
          31,
          27,
          19,
          18,
          43,
          19,
          32,
          26,
          40,
          23,
          38,
          21,
          34
         ]
        },
        {
         "hovertemplate": "Grupo=%{marker.color}<br>Anual Salario(k$)=%{x}<br>Puntaje Compras (1-100)=%{y}<br>Edad=%{z}<extra></extra>",
         "legendgroup": "4",
         "marker": {
          "color": [
           4,
           4,
           4,
           4,
           4,
           4,
           4,
           4,
           4,
           4,
           4,
           4,
           4,
           4,
           4,
           4,
           4,
           4,
           4,
           4,
           4,
           4,
           4,
           4,
           4,
           4,
           4,
           4,
           4,
           4,
           4,
           4,
           4,
           4,
           4,
           4,
           4,
           4,
           4,
           4,
           4,
           4,
           4
          ],
          "coloraxis": "coloraxis",
          "opacity": 0.7,
          "symbol": "circle"
         },
         "mode": "markers",
         "name": "4",
         "scene": "scene",
         "showlegend": true,
         "type": "scatter3d",
         "x": [
          38,
          40,
          42,
          43,
          43,
          43,
          44,
          44,
          46,
          46,
          47,
          47,
          48,
          48,
          49,
          49,
          50,
          50,
          54,
          54,
          54,
          54,
          54,
          54,
          54,
          57,
          58,
          59,
          60,
          60,
          61,
          62,
          62,
          62,
          63,
          63,
          63,
          63,
          63,
          65,
          65,
          67,
          67
         ],
         "y": [
          35,
          55,
          52,
          60,
          45,
          41,
          50,
          46,
          46,
          56,
          52,
          59,
          51,
          48,
          55,
          42,
          49,
          56,
          47,
          53,
          42,
          51,
          41,
          44,
          46,
          58,
          46,
          55,
          49,
          47,
          42,
          48,
          59,
          56,
          50,
          46,
          43,
          48,
          52,
          43,
          59,
          43,
          57
         ],
         "z": [
          65,
          50,
          49,
          59,
          50,
          47,
          51,
          69,
          53,
          70,
          67,
          54,
          63,
          68,
          70,
          47,
          60,
          60,
          59,
          45,
          49,
          57,
          67,
          46,
          48,
          55,
          50,
          68,
          48,
          47,
          48,
          49,
          67,
          49,
          66,
          54,
          68,
          66,
          65,
          63,
          49,
          51,
          50
         ]
        },
        {
         "hovertemplate": "Grupo=%{marker.color}<br>Anual Salario(k$)=%{x}<br>Puntaje Compras (1-100)=%{y}<br>Edad=%{z}<extra></extra>",
         "legendgroup": "8",
         "marker": {
          "color": [
           8,
           8,
           8,
           8,
           8,
           8,
           8,
           8,
           8,
           8,
           8,
           8,
           8,
           8,
           8,
           8,
           8,
           8,
           8,
           8,
           8
          ],
          "coloraxis": "coloraxis",
          "opacity": 0.7,
          "symbol": "diamond"
         },
         "mode": "markers",
         "name": "8",
         "scene": "scene",
         "showlegend": true,
         "type": "scatter3d",
         "x": [
          57,
          59,
          60,
          60,
          60,
          60,
          61,
          62,
          62,
          62,
          63,
          64,
          64,
          65,
          65,
          67,
          67,
          69,
          70,
          72,
          76
         ],
         "y": [
          55,
          41,
          40,
          42,
          52,
          50,
          49,
          41,
          55,
          42,
          54,
          42,
          46,
          48,
          50,
          56,
          40,
          58,
          29,
          34,
          40
         ],
         "z": [
          22,
          18,
          40,
          32,
          24,
          27,
          20,
          23,
          26,
          21,
          19,
          38,
          19,
          18,
          19,
          27,
          38,
          40,
          23,
          25,
          28
         ]
        },
        {
         "hovertemplate": "Grupo=%{marker.color}<br>Anual Salario(k$)=%{x}<br>Puntaje Compras (1-100)=%{y}<br>Edad=%{z}<extra></extra>",
         "legendgroup": "6",
         "marker": {
          "color": [
           6,
           6,
           6,
           6,
           6,
           6,
           6,
           6,
           6,
           6,
           6,
           6,
           6,
           6,
           6,
           6,
           6,
           6,
           6,
           6,
           6,
           6,
           6,
           6,
           6,
           6,
           6,
           6
          ],
          "coloraxis": "coloraxis",
          "opacity": 0.7,
          "symbol": "square"
         },
         "mode": "markers",
         "name": "6",
         "scene": "scene",
         "showlegend": true,
         "type": "scatter3d",
         "x": [
          69,
          70,
          71,
          71,
          71,
          72,
          73,
          73,
          74,
          75,
          76,
          77,
          77,
          78,
          78,
          78,
          78,
          78,
          78,
          79,
          81,
          85,
          86,
          87,
          87,
          87,
          88,
          88
         ],
         "y": [
          91,
          77,
          95,
          75,
          75,
          71,
          88,
          73,
          72,
          93,
          87,
          97,
          74,
          90,
          88,
          76,
          89,
          78,
          73,
          83,
          93,
          75,
          95,
          63,
          75,
          92,
          86,
          69
         ],
         "z": [
          39,
          31,
          40,
          38,
          39,
          31,
          29,
          32,
          35,
          32,
          32,
          28,
          32,
          34,
          39,
          38,
          27,
          30,
          30,
          29,
          31,
          36,
          33,
          32,
          28,
          36,
          30,
          27
         ]
        },
        {
         "hovertemplate": "Grupo=%{marker.color}<br>Anual Salario(k$)=%{x}<br>Puntaje Compras (1-100)=%{y}<br>Edad=%{z}<extra></extra>",
         "legendgroup": "2",
         "marker": {
          "color": [
           2,
           2,
           2,
           2,
           2,
           2,
           2,
           2,
           2,
           2,
           2,
           2,
           2,
           2,
           2,
           2,
           2,
           2,
           2,
           2
          ],
          "coloraxis": "coloraxis",
          "opacity": 0.7,
          "symbol": "circle"
         },
         "mode": "markers",
         "name": "2",
         "scene": "scene",
         "showlegend": true,
         "type": "scatter3d",
         "x": [
          71,
          71,
          71,
          73,
          74,
          77,
          77,
          78,
          78,
          78,
          78,
          79,
          85,
          86,
          87,
          87,
          87,
          88,
          88,
          93
         ],
         "y": [
          35,
          11,
          9,
          7,
          10,
          12,
          36,
          22,
          17,
          20,
          16,
          35,
          26,
          20,
          27,
          13,
          10,
          13,
          15,
          14
         ],
         "z": [
          43,
          59,
          47,
          44,
          19,
          25,
          48,
          34,
          43,
          44,
          47,
          56,
          50,
          42,
          36,
          40,
          36,
          52,
          58,
          59
         ]
        },
        {
         "hovertemplate": "Grupo=%{marker.color}<br>Anual Salario(k$)=%{x}<br>Puntaje Compras (1-100)=%{y}<br>Edad=%{z}<extra></extra>",
         "legendgroup": "0",
         "marker": {
          "color": [
           0,
           0,
           0,
           0,
           0,
           0,
           0,
           0,
           0,
           0,
           0
          ],
          "coloraxis": "coloraxis",
          "opacity": 0.7,
          "symbol": "circle"
         },
         "mode": "markers",
         "name": "0",
         "scene": "scene",
         "showlegend": true,
         "type": "scatter3d",
         "x": [
          93,
          97,
          98,
          99,
          101,
          103,
          103,
          113,
          120,
          126,
          137
         ],
         "y": [
          90,
          86,
          88,
          97,
          68,
          85,
          69,
          91,
          79,
          74,
          83
         ],
         "z": [
          35,
          32,
          29,
          30,
          28,
          36,
          32,
          38,
          35,
          32,
          30
         ]
        },
        {
         "hovertemplate": "Grupo=%{marker.color}<br>Anual Salario(k$)=%{x}<br>Puntaje Compras (1-100)=%{y}<br>Edad=%{z}<extra></extra>",
         "legendgroup": "7",
         "marker": {
          "color": [
           7,
           7,
           7,
           7,
           7,
           7,
           7,
           7,
           7,
           7
          ],
          "coloraxis": "coloraxis",
          "opacity": 0.7,
          "symbol": "x"
         },
         "mode": "markers",
         "name": "7",
         "scene": "scene",
         "showlegend": true,
         "type": "scatter3d",
         "x": [
          97,
          98,
          99,
          101,
          103,
          103,
          113,
          120,
          126,
          137
         ],
         "y": [
          32,
          15,
          39,
          24,
          17,
          23,
          8,
          16,
          28,
          18
         ],
         "z": [
          37,
          46,
          41,
          54,
          41,
          34,
          33,
          47,
          45,
          32
         ]
        }
       ],
       "layout": {
        "coloraxis": {
         "colorbar": {
          "title": {
           "text": "Grupo"
          }
         },
         "colorscale": [
          [
           0,
           "#0d0887"
          ],
          [
           0.1111111111111111,
           "#46039f"
          ],
          [
           0.2222222222222222,
           "#7201a8"
          ],
          [
           0.3333333333333333,
           "#9c179e"
          ],
          [
           0.4444444444444444,
           "#bd3786"
          ],
          [
           0.5555555555555556,
           "#d8576b"
          ],
          [
           0.6666666666666666,
           "#ed7953"
          ],
          [
           0.7777777777777778,
           "#fb9f3a"
          ],
          [
           0.8888888888888888,
           "#fdca26"
          ],
          [
           1,
           "#f0f921"
          ]
         ]
        },
        "height": 850,
        "legend": {
         "title": {
          "text": "Grupo"
         },
         "tracegroupgap": 0
        },
        "scene": {
         "aspectmode": "auto",
         "aspectratio": {
          "x": 1.4546029244844443,
          "y": 1.1088366555496172,
          "z": 0.6199946891245172
         },
         "domain": {
          "x": [
           0,
           1
          ],
          "y": [
           0,
           1
          ]
         },
         "xaxis": {
          "title": {
           "text": "Anual Salario(k$)"
          },
          "type": "linear"
         },
         "yaxis": {
          "title": {
           "text": "Puntaje Compras (1-100)"
          },
          "type": "linear"
         },
         "zaxis": {
          "title": {
           "text": "Edad"
          },
          "type": "linear"
         }
        },
        "showlegend": false,
        "template": {
         "data": {
          "bar": [
           {
            "error_x": {
             "color": "#2a3f5f"
            },
            "error_y": {
             "color": "#2a3f5f"
            },
            "marker": {
             "line": {
              "color": "#E5ECF6",
              "width": 0.5
             },
             "pattern": {
              "fillmode": "overlay",
              "size": 10,
              "solidity": 0.2
             }
            },
            "type": "bar"
           }
          ],
          "barpolar": [
           {
            "marker": {
             "line": {
              "color": "#E5ECF6",
              "width": 0.5
             },
             "pattern": {
              "fillmode": "overlay",
              "size": 10,
              "solidity": 0.2
             }
            },
            "type": "barpolar"
           }
          ],
          "carpet": [
           {
            "aaxis": {
             "endlinecolor": "#2a3f5f",
             "gridcolor": "white",
             "linecolor": "white",
             "minorgridcolor": "white",
             "startlinecolor": "#2a3f5f"
            },
            "baxis": {
             "endlinecolor": "#2a3f5f",
             "gridcolor": "white",
             "linecolor": "white",
             "minorgridcolor": "white",
             "startlinecolor": "#2a3f5f"
            },
            "type": "carpet"
           }
          ],
          "choropleth": [
           {
            "colorbar": {
             "outlinewidth": 0,
             "ticks": ""
            },
            "type": "choropleth"
           }
          ],
          "contour": [
           {
            "colorbar": {
             "outlinewidth": 0,
             "ticks": ""
            },
            "colorscale": [
             [
              0,
              "#0d0887"
             ],
             [
              0.1111111111111111,
              "#46039f"
             ],
             [
              0.2222222222222222,
              "#7201a8"
             ],
             [
              0.3333333333333333,
              "#9c179e"
             ],
             [
              0.4444444444444444,
              "#bd3786"
             ],
             [
              0.5555555555555556,
              "#d8576b"
             ],
             [
              0.6666666666666666,
              "#ed7953"
             ],
             [
              0.7777777777777778,
              "#fb9f3a"
             ],
             [
              0.8888888888888888,
              "#fdca26"
             ],
             [
              1,
              "#f0f921"
             ]
            ],
            "type": "contour"
           }
          ],
          "contourcarpet": [
           {
            "colorbar": {
             "outlinewidth": 0,
             "ticks": ""
            },
            "type": "contourcarpet"
           }
          ],
          "heatmap": [
           {
            "colorbar": {
             "outlinewidth": 0,
             "ticks": ""
            },
            "colorscale": [
             [
              0,
              "#0d0887"
             ],
             [
              0.1111111111111111,
              "#46039f"
             ],
             [
              0.2222222222222222,
              "#7201a8"
             ],
             [
              0.3333333333333333,
              "#9c179e"
             ],
             [
              0.4444444444444444,
              "#bd3786"
             ],
             [
              0.5555555555555556,
              "#d8576b"
             ],
             [
              0.6666666666666666,
              "#ed7953"
             ],
             [
              0.7777777777777778,
              "#fb9f3a"
             ],
             [
              0.8888888888888888,
              "#fdca26"
             ],
             [
              1,
              "#f0f921"
             ]
            ],
            "type": "heatmap"
           }
          ],
          "heatmapgl": [
           {
            "colorbar": {
             "outlinewidth": 0,
             "ticks": ""
            },
            "colorscale": [
             [
              0,
              "#0d0887"
             ],
             [
              0.1111111111111111,
              "#46039f"
             ],
             [
              0.2222222222222222,
              "#7201a8"
             ],
             [
              0.3333333333333333,
              "#9c179e"
             ],
             [
              0.4444444444444444,
              "#bd3786"
             ],
             [
              0.5555555555555556,
              "#d8576b"
             ],
             [
              0.6666666666666666,
              "#ed7953"
             ],
             [
              0.7777777777777778,
              "#fb9f3a"
             ],
             [
              0.8888888888888888,
              "#fdca26"
             ],
             [
              1,
              "#f0f921"
             ]
            ],
            "type": "heatmapgl"
           }
          ],
          "histogram": [
           {
            "marker": {
             "pattern": {
              "fillmode": "overlay",
              "size": 10,
              "solidity": 0.2
             }
            },
            "type": "histogram"
           }
          ],
          "histogram2d": [
           {
            "colorbar": {
             "outlinewidth": 0,
             "ticks": ""
            },
            "colorscale": [
             [
              0,
              "#0d0887"
             ],
             [
              0.1111111111111111,
              "#46039f"
             ],
             [
              0.2222222222222222,
              "#7201a8"
             ],
             [
              0.3333333333333333,
              "#9c179e"
             ],
             [
              0.4444444444444444,
              "#bd3786"
             ],
             [
              0.5555555555555556,
              "#d8576b"
             ],
             [
              0.6666666666666666,
              "#ed7953"
             ],
             [
              0.7777777777777778,
              "#fb9f3a"
             ],
             [
              0.8888888888888888,
              "#fdca26"
             ],
             [
              1,
              "#f0f921"
             ]
            ],
            "type": "histogram2d"
           }
          ],
          "histogram2dcontour": [
           {
            "colorbar": {
             "outlinewidth": 0,
             "ticks": ""
            },
            "colorscale": [
             [
              0,
              "#0d0887"
             ],
             [
              0.1111111111111111,
              "#46039f"
             ],
             [
              0.2222222222222222,
              "#7201a8"
             ],
             [
              0.3333333333333333,
              "#9c179e"
             ],
             [
              0.4444444444444444,
              "#bd3786"
             ],
             [
              0.5555555555555556,
              "#d8576b"
             ],
             [
              0.6666666666666666,
              "#ed7953"
             ],
             [
              0.7777777777777778,
              "#fb9f3a"
             ],
             [
              0.8888888888888888,
              "#fdca26"
             ],
             [
              1,
              "#f0f921"
             ]
            ],
            "type": "histogram2dcontour"
           }
          ],
          "mesh3d": [
           {
            "colorbar": {
             "outlinewidth": 0,
             "ticks": ""
            },
            "type": "mesh3d"
           }
          ],
          "parcoords": [
           {
            "line": {
             "colorbar": {
              "outlinewidth": 0,
              "ticks": ""
             }
            },
            "type": "parcoords"
           }
          ],
          "pie": [
           {
            "automargin": true,
            "type": "pie"
           }
          ],
          "scatter": [
           {
            "fillpattern": {
             "fillmode": "overlay",
             "size": 10,
             "solidity": 0.2
            },
            "type": "scatter"
           }
          ],
          "scatter3d": [
           {
            "line": {
             "colorbar": {
              "outlinewidth": 0,
              "ticks": ""
             }
            },
            "marker": {
             "colorbar": {
              "outlinewidth": 0,
              "ticks": ""
             }
            },
            "type": "scatter3d"
           }
          ],
          "scattercarpet": [
           {
            "marker": {
             "colorbar": {
              "outlinewidth": 0,
              "ticks": ""
             }
            },
            "type": "scattercarpet"
           }
          ],
          "scattergeo": [
           {
            "marker": {
             "colorbar": {
              "outlinewidth": 0,
              "ticks": ""
             }
            },
            "type": "scattergeo"
           }
          ],
          "scattergl": [
           {
            "marker": {
             "colorbar": {
              "outlinewidth": 0,
              "ticks": ""
             }
            },
            "type": "scattergl"
           }
          ],
          "scattermapbox": [
           {
            "marker": {
             "colorbar": {
              "outlinewidth": 0,
              "ticks": ""
             }
            },
            "type": "scattermapbox"
           }
          ],
          "scatterpolar": [
           {
            "marker": {
             "colorbar": {
              "outlinewidth": 0,
              "ticks": ""
             }
            },
            "type": "scatterpolar"
           }
          ],
          "scatterpolargl": [
           {
            "marker": {
             "colorbar": {
              "outlinewidth": 0,
              "ticks": ""
             }
            },
            "type": "scatterpolargl"
           }
          ],
          "scatterternary": [
           {
            "marker": {
             "colorbar": {
              "outlinewidth": 0,
              "ticks": ""
             }
            },
            "type": "scatterternary"
           }
          ],
          "surface": [
           {
            "colorbar": {
             "outlinewidth": 0,
             "ticks": ""
            },
            "colorscale": [
             [
              0,
              "#0d0887"
             ],
             [
              0.1111111111111111,
              "#46039f"
             ],
             [
              0.2222222222222222,
              "#7201a8"
             ],
             [
              0.3333333333333333,
              "#9c179e"
             ],
             [
              0.4444444444444444,
              "#bd3786"
             ],
             [
              0.5555555555555556,
              "#d8576b"
             ],
             [
              0.6666666666666666,
              "#ed7953"
             ],
             [
              0.7777777777777778,
              "#fb9f3a"
             ],
             [
              0.8888888888888888,
              "#fdca26"
             ],
             [
              1,
              "#f0f921"
             ]
            ],
            "type": "surface"
           }
          ],
          "table": [
           {
            "cells": {
             "fill": {
              "color": "#EBF0F8"
             },
             "line": {
              "color": "white"
             }
            },
            "header": {
             "fill": {
              "color": "#C8D4E3"
             },
             "line": {
              "color": "white"
             }
            },
            "type": "table"
           }
          ]
         },
         "layout": {
          "annotationdefaults": {
           "arrowcolor": "#2a3f5f",
           "arrowhead": 0,
           "arrowwidth": 1
          },
          "autotypenumbers": "strict",
          "coloraxis": {
           "colorbar": {
            "outlinewidth": 0,
            "ticks": ""
           }
          },
          "colorscale": {
           "diverging": [
            [
             0,
             "#8e0152"
            ],
            [
             0.1,
             "#c51b7d"
            ],
            [
             0.2,
             "#de77ae"
            ],
            [
             0.3,
             "#f1b6da"
            ],
            [
             0.4,
             "#fde0ef"
            ],
            [
             0.5,
             "#f7f7f7"
            ],
            [
             0.6,
             "#e6f5d0"
            ],
            [
             0.7,
             "#b8e186"
            ],
            [
             0.8,
             "#7fbc41"
            ],
            [
             0.9,
             "#4d9221"
            ],
            [
             1,
             "#276419"
            ]
           ],
           "sequential": [
            [
             0,
             "#0d0887"
            ],
            [
             0.1111111111111111,
             "#46039f"
            ],
            [
             0.2222222222222222,
             "#7201a8"
            ],
            [
             0.3333333333333333,
             "#9c179e"
            ],
            [
             0.4444444444444444,
             "#bd3786"
            ],
            [
             0.5555555555555556,
             "#d8576b"
            ],
            [
             0.6666666666666666,
             "#ed7953"
            ],
            [
             0.7777777777777778,
             "#fb9f3a"
            ],
            [
             0.8888888888888888,
             "#fdca26"
            ],
            [
             1,
             "#f0f921"
            ]
           ],
           "sequentialminus": [
            [
             0,
             "#0d0887"
            ],
            [
             0.1111111111111111,
             "#46039f"
            ],
            [
             0.2222222222222222,
             "#7201a8"
            ],
            [
             0.3333333333333333,
             "#9c179e"
            ],
            [
             0.4444444444444444,
             "#bd3786"
            ],
            [
             0.5555555555555556,
             "#d8576b"
            ],
            [
             0.6666666666666666,
             "#ed7953"
            ],
            [
             0.7777777777777778,
             "#fb9f3a"
            ],
            [
             0.8888888888888888,
             "#fdca26"
            ],
            [
             1,
             "#f0f921"
            ]
           ]
          },
          "colorway": [
           "#636efa",
           "#EF553B",
           "#00cc96",
           "#ab63fa",
           "#FFA15A",
           "#19d3f3",
           "#FF6692",
           "#B6E880",
           "#FF97FF",
           "#FECB52"
          ],
          "font": {
           "color": "#2a3f5f"
          },
          "geo": {
           "bgcolor": "white",
           "lakecolor": "white",
           "landcolor": "#E5ECF6",
           "showlakes": true,
           "showland": true,
           "subunitcolor": "white"
          },
          "hoverlabel": {
           "align": "left"
          },
          "hovermode": "closest",
          "mapbox": {
           "style": "light"
          },
          "paper_bgcolor": "white",
          "plot_bgcolor": "#E5ECF6",
          "polar": {
           "angularaxis": {
            "gridcolor": "white",
            "linecolor": "white",
            "ticks": ""
           },
           "bgcolor": "#E5ECF6",
           "radialaxis": {
            "gridcolor": "white",
            "linecolor": "white",
            "ticks": ""
           }
          },
          "scene": {
           "xaxis": {
            "backgroundcolor": "#E5ECF6",
            "gridcolor": "white",
            "gridwidth": 2,
            "linecolor": "white",
            "showbackground": true,
            "ticks": "",
            "zerolinecolor": "white"
           },
           "yaxis": {
            "backgroundcolor": "#E5ECF6",
            "gridcolor": "white",
            "gridwidth": 2,
            "linecolor": "white",
            "showbackground": true,
            "ticks": "",
            "zerolinecolor": "white"
           },
           "zaxis": {
            "backgroundcolor": "#E5ECF6",
            "gridcolor": "white",
            "gridwidth": 2,
            "linecolor": "white",
            "showbackground": true,
            "ticks": "",
            "zerolinecolor": "white"
           }
          },
          "shapedefaults": {
           "line": {
            "color": "#2a3f5f"
           }
          },
          "ternary": {
           "aaxis": {
            "gridcolor": "white",
            "linecolor": "white",
            "ticks": ""
           },
           "baxis": {
            "gridcolor": "white",
            "linecolor": "white",
            "ticks": ""
           },
           "bgcolor": "#E5ECF6",
           "caxis": {
            "gridcolor": "white",
            "linecolor": "white",
            "ticks": ""
           }
          },
          "title": {
           "x": 0.05
          },
          "xaxis": {
           "automargin": true,
           "gridcolor": "white",
           "linecolor": "white",
           "ticks": "",
           "title": {
            "standoff": 15
           },
           "zerolinecolor": "white",
           "zerolinewidth": 2
          },
          "yaxis": {
           "automargin": true,
           "gridcolor": "white",
           "linecolor": "white",
           "ticks": "",
           "title": {
            "standoff": 15
           },
           "zerolinecolor": "white",
           "zerolinewidth": 2
          }
         }
        },
        "title": {
         "text": "Modelo de K-Means con un k=9"
        },
        "width": 900
       }
      },
      "image/png": "[encoded data removed]",
      "text/html": [
       "<div>                            <div id=\"ea4848b5-5871-416f-a7dc-d7363a9ed777\" class=\"plotly-graph-div\" style=\"height:850px; width:900px;\"></div>            <script type=\"text/javascript\">                require([\"plotly\"], function(Plotly) {                    window.PLOTLYENV=window.PLOTLYENV || {};                                    if (document.getElementById(\"ea4848b5-5871-416f-a7dc-d7363a9ed777\")) {                    Plotly.newPlot(                        \"ea4848b5-5871-416f-a7dc-d7363a9ed777\",                        [{\"hovertemplate\":\"Grupo=%{marker.color}<br>Anual Salario(k$)=%{x}<br>Puntaje Compras (1-100)=%{y}<br>Edad=%{z}<extra></extra>\",\"legendgroup\":\"5\",\"marker\":{\"color\":[5,5,5,5,5,5,5,5,5,5,5,5,5,5,5,5,5,5],\"coloraxis\":\"coloraxis\",\"opacity\":0.7,\"symbol\":\"circle\"},\"mode\":\"markers\",\"name\":\"5\",\"scene\":\"scene\",\"showlegend\":true,\"x\":[15,16,17,18,19,20,20,21,23,24,28,28,29,33,34,37,39,39],\"y\":[39,6,40,6,14,15,13,35,29,35,14,32,31,14,17,26,36,28],\"z\":[19,20,31,35,67,58,37,35,52,35,54,45,40,49,42,36,48,49],\"type\":\"scatter3d\"},{\"hovertemplate\":\"Grupo=%{marker.color}<br>Anual Salario(k$)=%{x}<br>Puntaje Compras (1-100)=%{y}<br>Edad=%{z}<extra></extra>\",\"legendgroup\":\"3\",\"marker\":{\"color\":[3,3,3,3,3,3,3,3,3,3,3,3,3,3,3,3,3,3,3,3],\"coloraxis\":\"coloraxis\",\"opacity\":0.7,\"symbol\":\"circle\"},\"mode\":\"markers\",\"name\":\"3\",\"scene\":\"scene\",\"showlegend\":true,\"x\":[15,16,17,18,19,19,20,20,21,23,24,25,28,29,30,33,33,34,37,38],\"y\":[81,77,76,94,72,99,77,79,66,98,73,73,82,87,73,92,81,73,75,92],\"z\":[21,23,22,23,30,35,24,22,20,35,25,31,29,23,21,18,21,30,20,24],\"type\":\"scatter3d\"},{\"hovertemplate\":\"Grupo=%{marker.color}<br>Anual Salario(k$)=%{x}<br>Puntaje Compras (1-100)=%{y}<br>Edad=%{z}<extra></extra>\",\"legendgroup\":\"1\",\"marker\":{\"color\":[1,1,1,1,1,1,1,1,1,1,1,1,1,1,1,1,1,1,1,1],\"coloraxis\":\"coloraxis\",\"opacity\":0.7,\"symbol\":\"circle\"},\"mode\":\"markers\",\"name\":\"1\",\"scene\":\"scene\",\"showlegend\":true,\"x\":[28,39,39,40,40,40,42,43,46,46,48,48,48,48,54,54,54,54,54,58],\"y\":[61,61,65,47,42,42,60,54,51,55,59,50,59,47,54,48,52,55,57,60],\"z\":[35,31,24,27,29,31,33,31,27,19,18,43,19,32,26,40,23,38,21,34],\"type\":\"scatter3d\"},{\"hovertemplate\":\"Grupo=%{marker.color}<br>Anual Salario(k$)=%{x}<br>Puntaje Compras (1-100)=%{y}<br>Edad=%{z}<extra></extra>\",\"legendgroup\":\"4\",\"marker\":{\"color\":[4,4,4,4,4,4,4,4,4,4,4,4,4,4,4,4,4,4,4,4,4,4,4,4,4,4,4,4,4,4,4,4,4,4,4,4,4,4,4,4,4,4,4],\"coloraxis\":\"coloraxis\",\"opacity\":0.7,\"symbol\":\"circle\"},\"mode\":\"markers\",\"name\":\"4\",\"scene\":\"scene\",\"showlegend\":true,\"x\":[38,40,42,43,43,43,44,44,46,46,47,47,48,48,49,49,50,50,54,54,54,54,54,54,54,57,58,59,60,60,61,62,62,62,63,63,63,63,63,65,65,67,67],\"y\":[35,55,52,60,45,41,50,46,46,56,52,59,51,48,55,42,49,56,47,53,42,51,41,44,46,58,46,55,49,47,42,48,59,56,50,46,43,48,52,43,59,43,57],\"z\":[65,50,49,59,50,47,51,69,53,70,67,54,63,68,70,47,60,60,59,45,49,57,67,46,48,55,50,68,48,47,48,49,67,49,66,54,68,66,65,63,49,51,50],\"type\":\"scatter3d\"},{\"hovertemplate\":\"Grupo=%{marker.color}<br>Anual Salario(k$)=%{x}<br>Puntaje Compras (1-100)=%{y}<br>Edad=%{z}<extra></extra>\",\"legendgroup\":\"8\",\"marker\":{\"color\":[8,8,8,8,8,8,8,8,8,8,8,8,8,8,8,8,8,8,8,8,8],\"coloraxis\":\"coloraxis\",\"opacity\":0.7,\"symbol\":\"diamond\"},\"mode\":\"markers\",\"name\":\"8\",\"scene\":\"scene\",\"showlegend\":true,\"x\":[57,59,60,60,60,60,61,62,62,62,63,64,64,65,65,67,67,69,70,72,76],\"y\":[55,41,40,42,52,50,49,41,55,42,54,42,46,48,50,56,40,58,29,34,40],\"z\":[22,18,40,32,24,27,20,23,26,21,19,38,19,18,19,27,38,40,23,25,28],\"type\":\"scatter3d\"},{\"hovertemplate\":\"Grupo=%{marker.color}<br>Anual Salario(k$)=%{x}<br>Puntaje Compras (1-100)=%{y}<br>Edad=%{z}<extra></extra>\",\"legendgroup\":\"6\",\"marker\":{\"color\":[6,6,6,6,6,6,6,6,6,6,6,6,6,6,6,6,6,6,6,6,6,6,6,6,6,6,6,6],\"coloraxis\":\"coloraxis\",\"opacity\":0.7,\"symbol\":\"square\"},\"mode\":\"markers\",\"name\":\"6\",\"scene\":\"scene\",\"showlegend\":true,\"x\":[69,70,71,71,71,72,73,73,74,75,76,77,77,78,78,78,78,78,78,79,81,85,86,87,87,87,88,88],\"y\":[91,77,95,75,75,71,88,73,72,93,87,97,74,90,88,76,89,78,73,83,93,75,95,63,75,92,86,69],\"z\":[39,31,40,38,39,31,29,32,35,32,32,28,32,34,39,38,27,30,30,29,31,36,33,32,28,36,30,27],\"type\":\"scatter3d\"},{\"hovertemplate\":\"Grupo=%{marker.color}<br>Anual Salario(k$)=%{x}<br>Puntaje Compras (1-100)=%{y}<br>Edad=%{z}<extra></extra>\",\"legendgroup\":\"2\",\"marker\":{\"color\":[2,2,2,2,2,2,2,2,2,2,2,2,2,2,2,2,2,2,2,2],\"coloraxis\":\"coloraxis\",\"opacity\":0.7,\"symbol\":\"circle\"},\"mode\":\"markers\",\"name\":\"2\",\"scene\":\"scene\",\"showlegend\":true,\"x\":[71,71,71,73,74,77,77,78,78,78,78,79,85,86,87,87,87,88,88,93],\"y\":[35,11,9,7,10,12,36,22,17,20,16,35,26,20,27,13,10,13,15,14],\"z\":[43,59,47,44,19,25,48,34,43,44,47,56,50,42,36,40,36,52,58,59],\"type\":\"scatter3d\"},{\"hovertemplate\":\"Grupo=%{marker.color}<br>Anual Salario(k$)=%{x}<br>Puntaje Compras (1-100)=%{y}<br>Edad=%{z}<extra></extra>\",\"legendgroup\":\"0\",\"marker\":{\"color\":[0,0,0,0,0,0,0,0,0,0,0],\"coloraxis\":\"coloraxis\",\"opacity\":0.7,\"symbol\":\"circle\"},\"mode\":\"markers\",\"name\":\"0\",\"scene\":\"scene\",\"showlegend\":true,\"x\":[93,97,98,99,101,103,103,113,120,126,137],\"y\":[90,86,88,97,68,85,69,91,79,74,83],\"z\":[35,32,29,30,28,36,32,38,35,32,30],\"type\":\"scatter3d\"},{\"hovertemplate\":\"Grupo=%{marker.color}<br>Anual Salario(k$)=%{x}<br>Puntaje Compras (1-100)=%{y}<br>Edad=%{z}<extra></extra>\",\"legendgroup\":\"7\",\"marker\":{\"color\":[7,7,7,7,7,7,7,7,7,7],\"coloraxis\":\"coloraxis\",\"opacity\":0.7,\"symbol\":\"x\"},\"mode\":\"markers\",\"name\":\"7\",\"scene\":\"scene\",\"showlegend\":true,\"x\":[97,98,99,101,103,103,113,120,126,137],\"y\":[32,15,39,24,17,23,8,16,28,18],\"z\":[37,46,41,54,41,34,33,47,45,32],\"type\":\"scatter3d\"}],                        {\"template\":{\"data\":{\"histogram2dcontour\":[{\"type\":\"histogram2dcontour\",\"colorbar\":{\"outlinewidth\":0,\"ticks\":\"\"},\"colorscale\":[[0.0,\"#0d0887\"],[0.1111111111111111,\"#46039f\"],[0.2222222222222222,\"#7201a8\"],[0.3333333333333333,\"#9c179e\"],[0.4444444444444444,\"#bd3786\"],[0.5555555555555556,\"#d8576b\"],[0.6666666666666666,\"#ed7953\"],[0.7777777777777778,\"#fb9f3a\"],[0.8888888888888888,\"#fdca26\"],[1.0,\"#f0f921\"]]}],\"choropleth\":[{\"type\":\"choropleth\",\"colorbar\":{\"outlinewidth\":0,\"ticks\":\"\"}}],\"histogram2d\":[{\"type\":\"histogram2d\",\"colorbar\":{\"outlinewidth\":0,\"ticks\":\"\"},\"colorscale\":[[0.0,\"#0d0887\"],[0.1111111111111111,\"#46039f\"],[0.2222222222222222,\"#7201a8\"],[0.3333333333333333,\"#9c179e\"],[0.4444444444444444,\"#bd3786\"],[0.5555555555555556,\"#d8576b\"],[0.6666666666666666,\"#ed7953\"],[0.7777777777777778,\"#fb9f3a\"],[0.8888888888888888,\"#fdca26\"],[1.0,\"#f0f921\"]]}],\"heatmap\":[{\"type\":\"heatmap\",\"colorbar\":{\"outlinewidth\":0,\"ticks\":\"\"},\"colorscale\":[[0.0,\"#0d0887\"],[0.1111111111111111,\"#46039f\"],[0.2222222222222222,\"#7201a8\"],[0.3333333333333333,\"#9c179e\"],[0.4444444444444444,\"#bd3786\"],[0.5555555555555556,\"#d8576b\"],[0.6666666666666666,\"#ed7953\"],[0.7777777777777778,\"#fb9f3a\"],[0.8888888888888888,\"#fdca26\"],[1.0,\"#f0f921\"]]}],\"heatmapgl\":[{\"type\":\"heatmapgl\",\"colorbar\":{\"outlinewidth\":0,\"ticks\":\"\"},\"colorscale\":[[0.0,\"#0d0887\"],[0.1111111111111111,\"#46039f\"],[0.2222222222222222,\"#7201a8\"],[0.3333333333333333,\"#9c179e\"],[0.4444444444444444,\"#bd3786\"],[0.5555555555555556,\"#d8576b\"],[0.6666666666666666,\"#ed7953\"],[0.7777777777777778,\"#fb9f3a\"],[0.8888888888888888,\"#fdca26\"],[1.0,\"#f0f921\"]]}],\"contourcarpet\":[{\"type\":\"contourcarpet\",\"colorbar\":{\"outlinewidth\":0,\"ticks\":\"\"}}],\"contour\":[{\"type\":\"contour\",\"colorbar\":{\"outlinewidth\":0,\"ticks\":\"\"},\"colorscale\":[[0.0,\"#0d0887\"],[0.1111111111111111,\"#46039f\"],[0.2222222222222222,\"#7201a8\"],[0.3333333333333333,\"#9c179e\"],[0.4444444444444444,\"#bd3786\"],[0.5555555555555556,\"#d8576b\"],[0.6666666666666666,\"#ed7953\"],[0.7777777777777778,\"#fb9f3a\"],[0.8888888888888888,\"#fdca26\"],[1.0,\"#f0f921\"]]}],\"surface\":[{\"type\":\"surface\",\"colorbar\":{\"outlinewidth\":0,\"ticks\":\"\"},\"colorscale\":[[0.0,\"#0d0887\"],[0.1111111111111111,\"#46039f\"],[0.2222222222222222,\"#7201a8\"],[0.3333333333333333,\"#9c179e\"],[0.4444444444444444,\"#bd3786\"],[0.5555555555555556,\"#d8576b\"],[0.6666666666666666,\"#ed7953\"],[0.7777777777777778,\"#fb9f3a\"],[0.8888888888888888,\"#fdca26\"],[1.0,\"#f0f921\"]]}],\"mesh3d\":[{\"type\":\"mesh3d\",\"colorbar\":{\"outlinewidth\":0,\"ticks\":\"\"}}],\"scatter\":[{\"fillpattern\":{\"fillmode\":\"overlay\",\"size\":10,\"solidity\":0.2},\"type\":\"scatter\"}],\"parcoords\":[{\"type\":\"parcoords\",\"line\":{\"colorbar\":{\"outlinewidth\":0,\"ticks\":\"\"}}}],\"scatterpolargl\":[{\"type\":\"scatterpolargl\",\"marker\":{\"colorbar\":{\"outlinewidth\":0,\"ticks\":\"\"}}}],\"bar\":[{\"error_x\":{\"color\":\"#2a3f5f\"},\"error_y\":{\"color\":\"#2a3f5f\"},\"marker\":{\"line\":{\"color\":\"#E5ECF6\",\"width\":0.5},\"pattern\":{\"fillmode\":\"overlay\",\"size\":10,\"solidity\":0.2}},\"type\":\"bar\"}],\"scattergeo\":[{\"type\":\"scattergeo\",\"marker\":{\"colorbar\":{\"outlinewidth\":0,\"ticks\":\"\"}}}],\"scatterpolar\":[{\"type\":\"scatterpolar\",\"marker\":{\"colorbar\":{\"outlinewidth\":0,\"ticks\":\"\"}}}],\"histogram\":[{\"marker\":{\"pattern\":{\"fillmode\":\"overlay\",\"size\":10,\"solidity\":0.2}},\"type\":\"histogram\"}],\"scattergl\":[{\"type\":\"scattergl\",\"marker\":{\"colorbar\":{\"outlinewidth\":0,\"ticks\":\"\"}}}],\"scatter3d\":[{\"type\":\"scatter3d\",\"line\":{\"colorbar\":{\"outlinewidth\":0,\"ticks\":\"\"}},\"marker\":{\"colorbar\":{\"outlinewidth\":0,\"ticks\":\"\"}}}],\"scattermapbox\":[{\"type\":\"scattermapbox\",\"marker\":{\"colorbar\":{\"outlinewidth\":0,\"ticks\":\"\"}}}],\"scatterternary\":[{\"type\":\"scatterternary\",\"marker\":{\"colorbar\":{\"outlinewidth\":0,\"ticks\":\"\"}}}],\"scattercarpet\":[{\"type\":\"scattercarpet\",\"marker\":{\"colorbar\":{\"outlinewidth\":0,\"ticks\":\"\"}}}],\"carpet\":[{\"aaxis\":{\"endlinecolor\":\"#2a3f5f\",\"gridcolor\":\"white\",\"linecolor\":\"white\",\"minorgridcolor\":\"white\",\"startlinecolor\":\"#2a3f5f\"},\"baxis\":{\"endlinecolor\":\"#2a3f5f\",\"gridcolor\":\"white\",\"linecolor\":\"white\",\"minorgridcolor\":\"white\",\"startlinecolor\":\"#2a3f5f\"},\"type\":\"carpet\"}],\"table\":[{\"cells\":{\"fill\":{\"color\":\"#EBF0F8\"},\"line\":{\"color\":\"white\"}},\"header\":{\"fill\":{\"color\":\"#C8D4E3\"},\"line\":{\"color\":\"white\"}},\"type\":\"table\"}],\"barpolar\":[{\"marker\":{\"line\":{\"color\":\"#E5ECF6\",\"width\":0.5},\"pattern\":{\"fillmode\":\"overlay\",\"size\":10,\"solidity\":0.2}},\"type\":\"barpolar\"}],\"pie\":[{\"automargin\":true,\"type\":\"pie\"}]},\"layout\":{\"autotypenumbers\":\"strict\",\"colorway\":[\"#636efa\",\"#EF553B\",\"#00cc96\",\"#ab63fa\",\"#FFA15A\",\"#19d3f3\",\"#FF6692\",\"#B6E880\",\"#FF97FF\",\"#FECB52\"],\"font\":{\"color\":\"#2a3f5f\"},\"hovermode\":\"closest\",\"hoverlabel\":{\"align\":\"left\"},\"paper_bgcolor\":\"white\",\"plot_bgcolor\":\"#E5ECF6\",\"polar\":{\"bgcolor\":\"#E5ECF6\",\"angularaxis\":{\"gridcolor\":\"white\",\"linecolor\":\"white\",\"ticks\":\"\"},\"radialaxis\":{\"gridcolor\":\"white\",\"linecolor\":\"white\",\"ticks\":\"\"}},\"ternary\":{\"bgcolor\":\"#E5ECF6\",\"aaxis\":{\"gridcolor\":\"white\",\"linecolor\":\"white\",\"ticks\":\"\"},\"baxis\":{\"gridcolor\":\"white\",\"linecolor\":\"white\",\"ticks\":\"\"},\"caxis\":{\"gridcolor\":\"white\",\"linecolor\":\"white\",\"ticks\":\"\"}},\"coloraxis\":{\"colorbar\":{\"outlinewidth\":0,\"ticks\":\"\"}},\"colorscale\":{\"sequential\":[[0.0,\"#0d0887\"],[0.1111111111111111,\"#46039f\"],[0.2222222222222222,\"#7201a8\"],[0.3333333333333333,\"#9c179e\"],[0.4444444444444444,\"#bd3786\"],[0.5555555555555556,\"#d8576b\"],[0.6666666666666666,\"#ed7953\"],[0.7777777777777778,\"#fb9f3a\"],[0.8888888888888888,\"#fdca26\"],[1.0,\"#f0f921\"]],\"sequentialminus\":[[0.0,\"#0d0887\"],[0.1111111111111111,\"#46039f\"],[0.2222222222222222,\"#7201a8\"],[0.3333333333333333,\"#9c179e\"],[0.4444444444444444,\"#bd3786\"],[0.5555555555555556,\"#d8576b\"],[0.6666666666666666,\"#ed7953\"],[0.7777777777777778,\"#fb9f3a\"],[0.8888888888888888,\"#fdca26\"],[1.0,\"#f0f921\"]],\"diverging\":[[0,\"#8e0152\"],[0.1,\"#c51b7d\"],[0.2,\"#de77ae\"],[0.3,\"#f1b6da\"],[0.4,\"#fde0ef\"],[0.5,\"#f7f7f7\"],[0.6,\"#e6f5d0\"],[0.7,\"#b8e186\"],[0.8,\"#7fbc41\"],[0.9,\"#4d9221\"],[1,\"#276419\"]]},\"xaxis\":{\"gridcolor\":\"white\",\"linecolor\":\"white\",\"ticks\":\"\",\"title\":{\"standoff\":15},\"zerolinecolor\":\"white\",\"automargin\":true,\"zerolinewidth\":2},\"yaxis\":{\"gridcolor\":\"white\",\"linecolor\":\"white\",\"ticks\":\"\",\"title\":{\"standoff\":15},\"zerolinecolor\":\"white\",\"automargin\":true,\"zerolinewidth\":2},\"scene\":{\"xaxis\":{\"backgroundcolor\":\"#E5ECF6\",\"gridcolor\":\"white\",\"linecolor\":\"white\",\"showbackground\":true,\"ticks\":\"\",\"zerolinecolor\":\"white\",\"gridwidth\":2},\"yaxis\":{\"backgroundcolor\":\"#E5ECF6\",\"gridcolor\":\"white\",\"linecolor\":\"white\",\"showbackground\":true,\"ticks\":\"\",\"zerolinecolor\":\"white\",\"gridwidth\":2},\"zaxis\":{\"backgroundcolor\":\"#E5ECF6\",\"gridcolor\":\"white\",\"linecolor\":\"white\",\"showbackground\":true,\"ticks\":\"\",\"zerolinecolor\":\"white\",\"gridwidth\":2}},\"shapedefaults\":{\"line\":{\"color\":\"#2a3f5f\"}},\"annotationdefaults\":{\"arrowcolor\":\"#2a3f5f\",\"arrowhead\":0,\"arrowwidth\":1},\"geo\":{\"bgcolor\":\"white\",\"landcolor\":\"#E5ECF6\",\"subunitcolor\":\"white\",\"showland\":true,\"showlakes\":true,\"lakecolor\":\"white\"},\"title\":{\"x\":0.05},\"mapbox\":{\"style\":\"light\"}}},\"scene\":{\"domain\":{\"x\":[0.0,1.0],\"y\":[0.0,1.0]},\"xaxis\":{\"title\":{\"text\":\"Anual Salario(k$)\"}},\"yaxis\":{\"title\":{\"text\":\"Puntaje Compras (1-100)\"}},\"zaxis\":{\"title\":{\"text\":\"Edad\"}}},\"coloraxis\":{\"colorbar\":{\"title\":{\"text\":\"Grupo\"}},\"colorscale\":[[0.0,\"#0d0887\"],[0.1111111111111111,\"#46039f\"],[0.2222222222222222,\"#7201a8\"],[0.3333333333333333,\"#9c179e\"],[0.4444444444444444,\"#bd3786\"],[0.5555555555555556,\"#d8576b\"],[0.6666666666666666,\"#ed7953\"],[0.7777777777777778,\"#fb9f3a\"],[0.8888888888888888,\"#fdca26\"],[1.0,\"#f0f921\"]]},\"legend\":{\"title\":{\"text\":\"Grupo\"},\"tracegroupgap\":0},\"title\":{\"text\":\"Modelo de K-Means con un k=9\"},\"height\":850,\"width\":900,\"showlegend\":false},                        {\"responsive\": true}                    ).then(function(){\n",
       "                            \n",
       "var gd = document.getElementById('ea4848b5-5871-416f-a7dc-d7363a9ed777');\n",
       "var x = new MutationObserver(function (mutations, observer) {{\n",
       "        var display = window.getComputedStyle(gd).display;\n",
       "        if (!display || display === 'none') {{\n",
       "            console.log([gd, 'removed!']);\n",
       "            Plotly.purge(gd);\n",
       "            observer.disconnect();\n",
       "        }}\n",
       "}});\n",
       "\n",
       "// Listen for the removal of the full notebook cells\n",
       "var notebookContainer = gd.closest('#notebook-container');\n",
       "if (notebookContainer) {{\n",
       "    x.observe(notebookContainer, {childList: true});\n",
       "}}\n",
       "\n",
       "// Listen for the clearing of the current output cell\n",
       "var outputEl = gd.closest('.output');\n",
       "if (outputEl) {{\n",
       "    x.observe(outputEl, {childList: true});\n",
       "}}\n",
       "\n",
       "                        })                };                });            </script>        </div>"
      ]
     },
     "metadata": {},
     "output_type": "display_data"
    }
   ],
   "source": [
    "#Modelo 3D de los datos agrupados\n",
    "\n",
    "Grafica_3D = px.scatter_3d(data, x='Anual Salario(k$)', y='Puntaje Compras (1-100)', z='Edad', color='Grupo', symbol='Grupo', symbol_map={0: 'circle', 1: 'circle', 2: 'circle', 3: 'circle', 4: 'circle', 5: 'circle'}, opacity=0.7, width=900, height=850, title=f'Modelo de K-Means con un k={9}', labels={'label': 'Cluster'}, color_discrete_map={})\n",
    "Grafica_3D.update_layout(showlegend=False)"
   ]
  }
 ],
 "metadata": {
  "kernelspec": {
   "display_name": "Python 3 (ipykernel)",
   "language": "python",
   "name": "python3"
  },
  "language_info": {
   "codemirror_mode": {
    "name": "ipython",
    "version": 3
   },
   "file_extension": ".py",
   "mimetype": "text/x-python",
   "name": "python",
   "nbconvert_exporter": "python",
   "pygments_lexer": "ipython3",
   "version": "3.11.7"
  }
 },
 "nbformat": 4,
 "nbformat_minor": 5
}
