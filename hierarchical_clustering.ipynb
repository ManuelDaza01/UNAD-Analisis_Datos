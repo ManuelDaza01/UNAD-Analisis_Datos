{
 "cells": [
  {
   "cell_type": "code",
   "execution_count": 8,
   "id": "a38a9e13-5ed8-4175-a047-821edfd7b724",
   "metadata": {},
   "outputs": [
    {
     "name": "stdout",
     "output_type": "stream",
     "text": [
      "Manuel Daza - 202016908_59\n"
     ]
    }
   ],
   "source": [
    "print (\"Manuel Daza - 202016908_59\")"
   ]
  },
  {
   "cell_type": "code",
   "execution_count": 1,
   "id": "460178d9-3c45-457b-8b0c-83bcc9e1daa1",
   "metadata": {},
   "outputs": [],
   "source": [
    "#Importamos las librerias \n",
    "import pandas as pd\n",
    "import numpy as np\n",
    "import seaborn as sns\n",
    "import matplotlib.pyplot as plt\n",
    "import seaborn as sns\n",
    "import plotly.graph_objs as go\n",
    "import plotly.express as px\n",
    "\n",
    "#Librerias para modelos K-means\n",
    "from sklearn.preprocessing import LabelEncoder, StandardScaler\n",
    "from sklearn.cluster import KMeans, AgglomerativeClustering\n",
    "\n",
    "#Librerias para evaluar el modelo\n",
    "from sklearn import metrics\n",
    "from sklearn.metrics import silhouette_score, calinski_harabasz_score, davies_bouldin_score\n",
    "from scipy.cluster.hierarchy import dendrogram, linkage, cophenet\n",
    "from scipy.spatial.distance import pdist\n",
    "\n",
    "#]Libreria para evitar advertencia por falta de memoria\n",
    "import warnings\n",
    "warnings.filterwarnings('ignore')"
   ]
  },
  {
   "cell_type": "code",
   "execution_count": 2,
   "id": "46ea19a5-3a4b-4773-90d3-4ed5d185a225",
   "metadata": {},
   "outputs": [],
   "source": [
    "#Leemos los datos para cargarlos en la variable\n",
    "\n",
    "data = pd.read_csv('./mall_customers.csv')"
   ]
  },
  {
   "cell_type": "code",
   "execution_count": 3,
   "id": "27625226-b70e-4915-98a2-b96bad180f3b",
   "metadata": {},
   "outputs": [
    {
     "data": {
      "text/html": [
       "<div>\n",
       "<style scoped>\n",
       "    .dataframe tbody tr th:only-of-type {\n",
       "        vertical-align: middle;\n",
       "    }\n",
       "\n",
       "    .dataframe tbody tr th {\n",
       "        vertical-align: top;\n",
       "    }\n",
       "\n",
       "    .dataframe thead th {\n",
       "        text-align: right;\n",
       "    }\n",
       "</style>\n",
       "<table border=\"1\" class=\"dataframe\">\n",
       "  <thead>\n",
       "    <tr style=\"text-align: right;\">\n",
       "      <th></th>\n",
       "      <th>ClienteID</th>\n",
       "      <th>Genero</th>\n",
       "      <th>Edad</th>\n",
       "      <th>Anual Salario(k$)</th>\n",
       "      <th>Puntaje Compras (1-100)</th>\n",
       "    </tr>\n",
       "  </thead>\n",
       "  <tbody>\n",
       "    <tr>\n",
       "      <th>0</th>\n",
       "      <td>1</td>\n",
       "      <td>Male</td>\n",
       "      <td>19</td>\n",
       "      <td>15</td>\n",
       "      <td>39</td>\n",
       "    </tr>\n",
       "    <tr>\n",
       "      <th>1</th>\n",
       "      <td>2</td>\n",
       "      <td>Male</td>\n",
       "      <td>21</td>\n",
       "      <td>15</td>\n",
       "      <td>81</td>\n",
       "    </tr>\n",
       "    <tr>\n",
       "      <th>2</th>\n",
       "      <td>3</td>\n",
       "      <td>Female</td>\n",
       "      <td>20</td>\n",
       "      <td>16</td>\n",
       "      <td>6</td>\n",
       "    </tr>\n",
       "    <tr>\n",
       "      <th>3</th>\n",
       "      <td>4</td>\n",
       "      <td>Female</td>\n",
       "      <td>23</td>\n",
       "      <td>16</td>\n",
       "      <td>77</td>\n",
       "    </tr>\n",
       "    <tr>\n",
       "      <th>4</th>\n",
       "      <td>5</td>\n",
       "      <td>Female</td>\n",
       "      <td>31</td>\n",
       "      <td>17</td>\n",
       "      <td>40</td>\n",
       "    </tr>\n",
       "    <tr>\n",
       "      <th>5</th>\n",
       "      <td>6</td>\n",
       "      <td>Female</td>\n",
       "      <td>22</td>\n",
       "      <td>17</td>\n",
       "      <td>76</td>\n",
       "    </tr>\n",
       "    <tr>\n",
       "      <th>6</th>\n",
       "      <td>7</td>\n",
       "      <td>Female</td>\n",
       "      <td>35</td>\n",
       "      <td>18</td>\n",
       "      <td>6</td>\n",
       "    </tr>\n",
       "    <tr>\n",
       "      <th>7</th>\n",
       "      <td>8</td>\n",
       "      <td>Female</td>\n",
       "      <td>23</td>\n",
       "      <td>18</td>\n",
       "      <td>94</td>\n",
       "    </tr>\n",
       "    <tr>\n",
       "      <th>8</th>\n",
       "      <td>9</td>\n",
       "      <td>Male</td>\n",
       "      <td>64</td>\n",
       "      <td>19</td>\n",
       "      <td>3</td>\n",
       "    </tr>\n",
       "    <tr>\n",
       "      <th>9</th>\n",
       "      <td>10</td>\n",
       "      <td>Female</td>\n",
       "      <td>30</td>\n",
       "      <td>19</td>\n",
       "      <td>72</td>\n",
       "    </tr>\n",
       "    <tr>\n",
       "      <th>10</th>\n",
       "      <td>11</td>\n",
       "      <td>Male</td>\n",
       "      <td>67</td>\n",
       "      <td>19</td>\n",
       "      <td>14</td>\n",
       "    </tr>\n",
       "    <tr>\n",
       "      <th>11</th>\n",
       "      <td>12</td>\n",
       "      <td>Female</td>\n",
       "      <td>35</td>\n",
       "      <td>19</td>\n",
       "      <td>99</td>\n",
       "    </tr>\n",
       "    <tr>\n",
       "      <th>12</th>\n",
       "      <td>13</td>\n",
       "      <td>Female</td>\n",
       "      <td>58</td>\n",
       "      <td>20</td>\n",
       "      <td>15</td>\n",
       "    </tr>\n",
       "    <tr>\n",
       "      <th>13</th>\n",
       "      <td>14</td>\n",
       "      <td>Female</td>\n",
       "      <td>24</td>\n",
       "      <td>20</td>\n",
       "      <td>77</td>\n",
       "    </tr>\n",
       "    <tr>\n",
       "      <th>14</th>\n",
       "      <td>15</td>\n",
       "      <td>Male</td>\n",
       "      <td>37</td>\n",
       "      <td>20</td>\n",
       "      <td>13</td>\n",
       "    </tr>\n",
       "    <tr>\n",
       "      <th>15</th>\n",
       "      <td>16</td>\n",
       "      <td>Male</td>\n",
       "      <td>22</td>\n",
       "      <td>20</td>\n",
       "      <td>79</td>\n",
       "    </tr>\n",
       "    <tr>\n",
       "      <th>16</th>\n",
       "      <td>17</td>\n",
       "      <td>Female</td>\n",
       "      <td>35</td>\n",
       "      <td>21</td>\n",
       "      <td>35</td>\n",
       "    </tr>\n",
       "    <tr>\n",
       "      <th>17</th>\n",
       "      <td>18</td>\n",
       "      <td>Male</td>\n",
       "      <td>20</td>\n",
       "      <td>21</td>\n",
       "      <td>66</td>\n",
       "    </tr>\n",
       "    <tr>\n",
       "      <th>18</th>\n",
       "      <td>19</td>\n",
       "      <td>Male</td>\n",
       "      <td>52</td>\n",
       "      <td>23</td>\n",
       "      <td>29</td>\n",
       "    </tr>\n",
       "    <tr>\n",
       "      <th>19</th>\n",
       "      <td>20</td>\n",
       "      <td>Female</td>\n",
       "      <td>35</td>\n",
       "      <td>23</td>\n",
       "      <td>98</td>\n",
       "    </tr>\n",
       "    <tr>\n",
       "      <th>20</th>\n",
       "      <td>21</td>\n",
       "      <td>Male</td>\n",
       "      <td>35</td>\n",
       "      <td>24</td>\n",
       "      <td>35</td>\n",
       "    </tr>\n",
       "    <tr>\n",
       "      <th>21</th>\n",
       "      <td>22</td>\n",
       "      <td>Male</td>\n",
       "      <td>25</td>\n",
       "      <td>24</td>\n",
       "      <td>73</td>\n",
       "    </tr>\n",
       "    <tr>\n",
       "      <th>22</th>\n",
       "      <td>23</td>\n",
       "      <td>Female</td>\n",
       "      <td>46</td>\n",
       "      <td>25</td>\n",
       "      <td>5</td>\n",
       "    </tr>\n",
       "    <tr>\n",
       "      <th>23</th>\n",
       "      <td>24</td>\n",
       "      <td>Male</td>\n",
       "      <td>31</td>\n",
       "      <td>25</td>\n",
       "      <td>73</td>\n",
       "    </tr>\n",
       "    <tr>\n",
       "      <th>24</th>\n",
       "      <td>25</td>\n",
       "      <td>Female</td>\n",
       "      <td>54</td>\n",
       "      <td>28</td>\n",
       "      <td>14</td>\n",
       "    </tr>\n",
       "    <tr>\n",
       "      <th>25</th>\n",
       "      <td>26</td>\n",
       "      <td>Male</td>\n",
       "      <td>29</td>\n",
       "      <td>28</td>\n",
       "      <td>82</td>\n",
       "    </tr>\n",
       "    <tr>\n",
       "      <th>26</th>\n",
       "      <td>27</td>\n",
       "      <td>Female</td>\n",
       "      <td>45</td>\n",
       "      <td>28</td>\n",
       "      <td>32</td>\n",
       "    </tr>\n",
       "    <tr>\n",
       "      <th>27</th>\n",
       "      <td>28</td>\n",
       "      <td>Male</td>\n",
       "      <td>35</td>\n",
       "      <td>28</td>\n",
       "      <td>61</td>\n",
       "    </tr>\n",
       "    <tr>\n",
       "      <th>28</th>\n",
       "      <td>29</td>\n",
       "      <td>Female</td>\n",
       "      <td>40</td>\n",
       "      <td>29</td>\n",
       "      <td>31</td>\n",
       "    </tr>\n",
       "    <tr>\n",
       "      <th>29</th>\n",
       "      <td>30</td>\n",
       "      <td>Female</td>\n",
       "      <td>23</td>\n",
       "      <td>29</td>\n",
       "      <td>87</td>\n",
       "    </tr>\n",
       "    <tr>\n",
       "      <th>30</th>\n",
       "      <td>31</td>\n",
       "      <td>Male</td>\n",
       "      <td>60</td>\n",
       "      <td>30</td>\n",
       "      <td>4</td>\n",
       "    </tr>\n",
       "    <tr>\n",
       "      <th>31</th>\n",
       "      <td>32</td>\n",
       "      <td>Female</td>\n",
       "      <td>21</td>\n",
       "      <td>30</td>\n",
       "      <td>73</td>\n",
       "    </tr>\n",
       "    <tr>\n",
       "      <th>32</th>\n",
       "      <td>33</td>\n",
       "      <td>Male</td>\n",
       "      <td>53</td>\n",
       "      <td>33</td>\n",
       "      <td>4</td>\n",
       "    </tr>\n",
       "    <tr>\n",
       "      <th>33</th>\n",
       "      <td>34</td>\n",
       "      <td>Male</td>\n",
       "      <td>18</td>\n",
       "      <td>33</td>\n",
       "      <td>92</td>\n",
       "    </tr>\n",
       "    <tr>\n",
       "      <th>34</th>\n",
       "      <td>35</td>\n",
       "      <td>Female</td>\n",
       "      <td>49</td>\n",
       "      <td>33</td>\n",
       "      <td>14</td>\n",
       "    </tr>\n",
       "    <tr>\n",
       "      <th>35</th>\n",
       "      <td>36</td>\n",
       "      <td>Female</td>\n",
       "      <td>21</td>\n",
       "      <td>33</td>\n",
       "      <td>81</td>\n",
       "    </tr>\n",
       "    <tr>\n",
       "      <th>36</th>\n",
       "      <td>37</td>\n",
       "      <td>Female</td>\n",
       "      <td>42</td>\n",
       "      <td>34</td>\n",
       "      <td>17</td>\n",
       "    </tr>\n",
       "    <tr>\n",
       "      <th>37</th>\n",
       "      <td>38</td>\n",
       "      <td>Female</td>\n",
       "      <td>30</td>\n",
       "      <td>34</td>\n",
       "      <td>73</td>\n",
       "    </tr>\n",
       "    <tr>\n",
       "      <th>38</th>\n",
       "      <td>39</td>\n",
       "      <td>Female</td>\n",
       "      <td>36</td>\n",
       "      <td>37</td>\n",
       "      <td>26</td>\n",
       "    </tr>\n",
       "    <tr>\n",
       "      <th>39</th>\n",
       "      <td>40</td>\n",
       "      <td>Female</td>\n",
       "      <td>20</td>\n",
       "      <td>37</td>\n",
       "      <td>75</td>\n",
       "    </tr>\n",
       "    <tr>\n",
       "      <th>40</th>\n",
       "      <td>41</td>\n",
       "      <td>Female</td>\n",
       "      <td>65</td>\n",
       "      <td>38</td>\n",
       "      <td>35</td>\n",
       "    </tr>\n",
       "    <tr>\n",
       "      <th>41</th>\n",
       "      <td>42</td>\n",
       "      <td>Male</td>\n",
       "      <td>24</td>\n",
       "      <td>38</td>\n",
       "      <td>92</td>\n",
       "    </tr>\n",
       "    <tr>\n",
       "      <th>42</th>\n",
       "      <td>43</td>\n",
       "      <td>Male</td>\n",
       "      <td>48</td>\n",
       "      <td>39</td>\n",
       "      <td>36</td>\n",
       "    </tr>\n",
       "    <tr>\n",
       "      <th>43</th>\n",
       "      <td>44</td>\n",
       "      <td>Female</td>\n",
       "      <td>31</td>\n",
       "      <td>39</td>\n",
       "      <td>61</td>\n",
       "    </tr>\n",
       "    <tr>\n",
       "      <th>44</th>\n",
       "      <td>45</td>\n",
       "      <td>Female</td>\n",
       "      <td>49</td>\n",
       "      <td>39</td>\n",
       "      <td>28</td>\n",
       "    </tr>\n",
       "    <tr>\n",
       "      <th>45</th>\n",
       "      <td>46</td>\n",
       "      <td>Female</td>\n",
       "      <td>24</td>\n",
       "      <td>39</td>\n",
       "      <td>65</td>\n",
       "    </tr>\n",
       "    <tr>\n",
       "      <th>46</th>\n",
       "      <td>47</td>\n",
       "      <td>Female</td>\n",
       "      <td>50</td>\n",
       "      <td>40</td>\n",
       "      <td>55</td>\n",
       "    </tr>\n",
       "    <tr>\n",
       "      <th>47</th>\n",
       "      <td>48</td>\n",
       "      <td>Female</td>\n",
       "      <td>27</td>\n",
       "      <td>40</td>\n",
       "      <td>47</td>\n",
       "    </tr>\n",
       "    <tr>\n",
       "      <th>48</th>\n",
       "      <td>49</td>\n",
       "      <td>Female</td>\n",
       "      <td>29</td>\n",
       "      <td>40</td>\n",
       "      <td>42</td>\n",
       "    </tr>\n",
       "    <tr>\n",
       "      <th>49</th>\n",
       "      <td>50</td>\n",
       "      <td>Female</td>\n",
       "      <td>31</td>\n",
       "      <td>40</td>\n",
       "      <td>42</td>\n",
       "    </tr>\n",
       "  </tbody>\n",
       "</table>\n",
       "</div>"
      ],
      "text/plain": [
       "    ClienteID  Genero  Edad  Anual Salario(k$)  Puntaje Compras (1-100)\n",
       "0           1    Male    19                 15                       39\n",
       "1           2    Male    21                 15                       81\n",
       "2           3  Female    20                 16                        6\n",
       "3           4  Female    23                 16                       77\n",
       "4           5  Female    31                 17                       40\n",
       "5           6  Female    22                 17                       76\n",
       "6           7  Female    35                 18                        6\n",
       "7           8  Female    23                 18                       94\n",
       "8           9    Male    64                 19                        3\n",
       "9          10  Female    30                 19                       72\n",
       "10         11    Male    67                 19                       14\n",
       "11         12  Female    35                 19                       99\n",
       "12         13  Female    58                 20                       15\n",
       "13         14  Female    24                 20                       77\n",
       "14         15    Male    37                 20                       13\n",
       "15         16    Male    22                 20                       79\n",
       "16         17  Female    35                 21                       35\n",
       "17         18    Male    20                 21                       66\n",
       "18         19    Male    52                 23                       29\n",
       "19         20  Female    35                 23                       98\n",
       "20         21    Male    35                 24                       35\n",
       "21         22    Male    25                 24                       73\n",
       "22         23  Female    46                 25                        5\n",
       "23         24    Male    31                 25                       73\n",
       "24         25  Female    54                 28                       14\n",
       "25         26    Male    29                 28                       82\n",
       "26         27  Female    45                 28                       32\n",
       "27         28    Male    35                 28                       61\n",
       "28         29  Female    40                 29                       31\n",
       "29         30  Female    23                 29                       87\n",
       "30         31    Male    60                 30                        4\n",
       "31         32  Female    21                 30                       73\n",
       "32         33    Male    53                 33                        4\n",
       "33         34    Male    18                 33                       92\n",
       "34         35  Female    49                 33                       14\n",
       "35         36  Female    21                 33                       81\n",
       "36         37  Female    42                 34                       17\n",
       "37         38  Female    30                 34                       73\n",
       "38         39  Female    36                 37                       26\n",
       "39         40  Female    20                 37                       75\n",
       "40         41  Female    65                 38                       35\n",
       "41         42    Male    24                 38                       92\n",
       "42         43    Male    48                 39                       36\n",
       "43         44  Female    31                 39                       61\n",
       "44         45  Female    49                 39                       28\n",
       "45         46  Female    24                 39                       65\n",
       "46         47  Female    50                 40                       55\n",
       "47         48  Female    27                 40                       47\n",
       "48         49  Female    29                 40                       42\n",
       "49         50  Female    31                 40                       42"
      ]
     },
     "execution_count": 3,
     "metadata": {},
     "output_type": "execute_result"
    }
   ],
   "source": [
    "#1. Analisis Exploratorio de los Datos:\n",
    "\n",
    "data.head(50)"
   ]
  },
  {
   "cell_type": "code",
   "execution_count": 4,
   "id": "679019e9-71ac-498f-b010-8f73a91faf56",
   "metadata": {},
   "outputs": [
    {
     "data": {
      "text/html": [
       "<div>\n",
       "<style scoped>\n",
       "    .dataframe tbody tr th:only-of-type {\n",
       "        vertical-align: middle;\n",
       "    }\n",
       "\n",
       "    .dataframe tbody tr th {\n",
       "        vertical-align: top;\n",
       "    }\n",
       "\n",
       "    .dataframe thead th {\n",
       "        text-align: right;\n",
       "    }\n",
       "</style>\n",
       "<table border=\"1\" class=\"dataframe\">\n",
       "  <thead>\n",
       "    <tr style=\"text-align: right;\">\n",
       "      <th></th>\n",
       "      <th>ClienteID</th>\n",
       "      <th>Edad</th>\n",
       "      <th>Anual Salario(k$)</th>\n",
       "      <th>Puntaje Compras (1-100)</th>\n",
       "    </tr>\n",
       "  </thead>\n",
       "  <tbody>\n",
       "    <tr>\n",
       "      <th>count</th>\n",
       "      <td>200.000000</td>\n",
       "      <td>200.000000</td>\n",
       "      <td>200.000000</td>\n",
       "      <td>200.000000</td>\n",
       "    </tr>\n",
       "    <tr>\n",
       "      <th>mean</th>\n",
       "      <td>100.500000</td>\n",
       "      <td>38.850000</td>\n",
       "      <td>60.560000</td>\n",
       "      <td>50.200000</td>\n",
       "    </tr>\n",
       "    <tr>\n",
       "      <th>std</th>\n",
       "      <td>57.879185</td>\n",
       "      <td>13.969007</td>\n",
       "      <td>26.264721</td>\n",
       "      <td>25.823522</td>\n",
       "    </tr>\n",
       "    <tr>\n",
       "      <th>min</th>\n",
       "      <td>1.000000</td>\n",
       "      <td>18.000000</td>\n",
       "      <td>15.000000</td>\n",
       "      <td>1.000000</td>\n",
       "    </tr>\n",
       "    <tr>\n",
       "      <th>25%</th>\n",
       "      <td>50.750000</td>\n",
       "      <td>28.750000</td>\n",
       "      <td>41.500000</td>\n",
       "      <td>34.750000</td>\n",
       "    </tr>\n",
       "    <tr>\n",
       "      <th>50%</th>\n",
       "      <td>100.500000</td>\n",
       "      <td>36.000000</td>\n",
       "      <td>61.500000</td>\n",
       "      <td>50.000000</td>\n",
       "    </tr>\n",
       "    <tr>\n",
       "      <th>75%</th>\n",
       "      <td>150.250000</td>\n",
       "      <td>49.000000</td>\n",
       "      <td>78.000000</td>\n",
       "      <td>73.000000</td>\n",
       "    </tr>\n",
       "    <tr>\n",
       "      <th>max</th>\n",
       "      <td>200.000000</td>\n",
       "      <td>70.000000</td>\n",
       "      <td>137.000000</td>\n",
       "      <td>99.000000</td>\n",
       "    </tr>\n",
       "  </tbody>\n",
       "</table>\n",
       "</div>"
      ],
      "text/plain": [
       "        ClienteID        Edad  Anual Salario(k$)  Puntaje Compras (1-100)\n",
       "count  200.000000  200.000000         200.000000               200.000000\n",
       "mean   100.500000   38.850000          60.560000                50.200000\n",
       "std     57.879185   13.969007          26.264721                25.823522\n",
       "min      1.000000   18.000000          15.000000                 1.000000\n",
       "25%     50.750000   28.750000          41.500000                34.750000\n",
       "50%    100.500000   36.000000          61.500000                50.000000\n",
       "75%    150.250000   49.000000          78.000000                73.000000\n",
       "max    200.000000   70.000000         137.000000                99.000000"
      ]
     },
     "execution_count": 4,
     "metadata": {},
     "output_type": "execute_result"
    }
   ],
   "source": [
    "#Descripcion de los datos\n",
    "\n",
    "data.describe()"
   ]
  },
  {
   "cell_type": "code",
   "execution_count": 9,
   "id": "11e83996-b22a-4276-84bb-15633be21eb4",
   "metadata": {},
   "outputs": [
    {
     "data": {
      "text/html": [
       "<div>\n",
       "<style scoped>\n",
       "    .dataframe tbody tr th:only-of-type {\n",
       "        vertical-align: middle;\n",
       "    }\n",
       "\n",
       "    .dataframe tbody tr th {\n",
       "        vertical-align: top;\n",
       "    }\n",
       "\n",
       "    .dataframe thead th {\n",
       "        text-align: right;\n",
       "    }\n",
       "</style>\n",
       "<table border=\"1\" class=\"dataframe\">\n",
       "  <thead>\n",
       "    <tr style=\"text-align: right;\">\n",
       "      <th></th>\n",
       "      <th>ClienteID</th>\n",
       "      <th>Edad</th>\n",
       "      <th>Anual Salario(k$)</th>\n",
       "      <th>Puntaje Compras (1-100)</th>\n",
       "    </tr>\n",
       "  </thead>\n",
       "  <tbody>\n",
       "    <tr>\n",
       "      <th>count</th>\n",
       "      <td>200</td>\n",
       "      <td>200</td>\n",
       "      <td>200</td>\n",
       "      <td>200</td>\n",
       "    </tr>\n",
       "    <tr>\n",
       "      <th>mean</th>\n",
       "      <td>100.5</td>\n",
       "      <td>38.85</td>\n",
       "      <td>60.56</td>\n",
       "      <td>50.2</td>\n",
       "    </tr>\n",
       "    <tr>\n",
       "      <th>std</th>\n",
       "      <td>57.8792</td>\n",
       "      <td>13.969</td>\n",
       "      <td>26.2647</td>\n",
       "      <td>25.8235</td>\n",
       "    </tr>\n",
       "    <tr>\n",
       "      <th>min</th>\n",
       "      <td>1</td>\n",
       "      <td>18</td>\n",
       "      <td>15</td>\n",
       "      <td>1</td>\n",
       "    </tr>\n",
       "    <tr>\n",
       "      <th>25%</th>\n",
       "      <td>50.75</td>\n",
       "      <td>28.75</td>\n",
       "      <td>41.5</td>\n",
       "      <td>34.75</td>\n",
       "    </tr>\n",
       "    <tr>\n",
       "      <th>50%</th>\n",
       "      <td>100.5</td>\n",
       "      <td>36</td>\n",
       "      <td>61.5</td>\n",
       "      <td>50</td>\n",
       "    </tr>\n",
       "    <tr>\n",
       "      <th>75%</th>\n",
       "      <td>150.25</td>\n",
       "      <td>49</td>\n",
       "      <td>78</td>\n",
       "      <td>73</td>\n",
       "    </tr>\n",
       "    <tr>\n",
       "      <th>max</th>\n",
       "      <td>200</td>\n",
       "      <td>70</td>\n",
       "      <td>137</td>\n",
       "      <td>99</td>\n",
       "    </tr>\n",
       "  </tbody>\n",
       "</table>\n",
       "</div>"
      ],
      "text/plain": [
       "      ClienteID    Edad Anual Salario(k$) Puntaje Compras (1-100)\n",
       "count       200     200               200                     200\n",
       "mean      100.5   38.85             60.56                    50.2\n",
       "std     57.8792  13.969           26.2647                 25.8235\n",
       "min           1      18                15                       1\n",
       "25%       50.75   28.75              41.5                   34.75\n",
       "50%       100.5      36              61.5                      50\n",
       "75%      150.25      49                78                      73\n",
       "max         200      70               137                      99"
      ]
     },
     "execution_count": 9,
     "metadata": {},
     "output_type": "execute_result"
    }
   ],
   "source": [
    "#2. Preprocesar los datos limpiándolos:\n",
    "\n",
    "data.describe().apply(lambda s: s.apply(lambda x: format(x, 'g')))"
   ]
  },
  {
   "cell_type": "code",
   "execution_count": 10,
   "id": "87ffc19e-6d71-4ef5-8955-49b2ec982085",
   "metadata": {},
   "outputs": [
    {
     "data": {
      "text/plain": [
       "Text(0.5, 1.0, 'Identificación Datos Faltantes')"
      ]
     },
     "execution_count": 10,
     "metadata": {},
     "output_type": "execute_result"
    },
    {
     "data": {
      "image/png": "[encoded data removed]",
      "text/plain": [
       "<Figure size 600x300 with 1 Axes>"
      ]
     },
     "metadata": {},
     "output_type": "display_data"
    }
   ],
   "source": [
    "# Grafico para identificar valores faltantes\n",
    "\n",
    "plt.figure(figsize=(6, 3))\n",
    "sns.boxplot(x=data['Edad'])\n",
    "plt.title('Identificación Datos Faltantes', fontsize=10)"
   ]
  },
  {
   "cell_type": "code",
   "execution_count": 12,
   "id": "a16708c9-4bb3-46eb-8e3a-710d1feb7a81",
   "metadata": {},
   "outputs": [
    {
     "name": "stdout",
     "output_type": "stream",
     "text": [
      "Edad:  0\n",
      "Salario Anual:  0\n",
      "Puntaje de Credito:  0\n"
     ]
    }
   ],
   "source": [
    "#Revisamos Datos Faltantes\n",
    "\n",
    "print (\"Edad: \",data['Edad'].isin([0]).sum())\n",
    "print (\"Salario Anual: \",data['Anual Salario(k$)'].isin([0]).sum())\n",
    "print (\"Puntaje de Credito: \",data['Puntaje Compras (1-100)'].isin([0]).sum())"
   ]
  },
  {
   "cell_type": "code",
   "execution_count": 13,
   "id": "80a29324-3c80-41c6-8387-13a8ac74fde3",
   "metadata": {},
   "outputs": [
    {
     "data": {
      "text/plain": [
       "Text(0.5, 1.0, 'Identificación Datos Atípicos')"
      ]
     },
     "execution_count": 13,
     "metadata": {},
     "output_type": "execute_result"
    },
    {
     "data": {
      "image/png": "[encoded data removed]",
      "text/plain": [
       "<Figure size 600x300 with 1 Axes>"
      ]
     },
     "metadata": {},
     "output_type": "display_data"
    }
   ],
   "source": [
    "# Grafico para identificar valores Atípicos\n",
    "\n",
    "plt.figure(figsize=(6, 3))\n",
    "sns.boxplot(x=data['Anual Salario(k$)'])\n",
    "plt.title('Identificación Datos Atípicos', fontsize=10)"
   ]
  },
  {
   "cell_type": "code",
   "execution_count": 31,
   "id": "5098e870-d490-4a67-94b0-011dee65c55a",
   "metadata": {},
   "outputs": [
    {
     "name": "stdout",
     "output_type": "stream",
     "text": [
      "El total de datos atipicos es: 6\n"
     ]
    }
   ],
   "source": [
    "#Conteo Datos atipicos\n",
    "\n",
    "hr_min=90\n",
    "hr_max=190\n",
    "total_atipicos=((data['heart_rate']<hr_min)|(data['heart_rate']>hr_max)).sum()\n",
    "print(\"El total de datos atipicos es: {}\".format(total_atipicos))"
   ]
  },
  {
   "cell_type": "code",
   "execution_count": 32,
   "id": "d98cb2d9-8e5f-4ccf-b3ca-7cd7bbdd5e41",
   "metadata": {},
   "outputs": [],
   "source": [
    "#Filtrar datos atipicos\n",
    "data=data[(data['heart_rate']<hr_max)&(data['heart_rate']>hr_min)]"
   ]
  },
  {
   "cell_type": "code",
   "execution_count": 33,
   "id": "8e38512a-e29c-4f05-9676-e2d983f442e5",
   "metadata": {},
   "outputs": [
    {
     "name": "stdout",
     "output_type": "stream",
     "text": [
      "El total de datos atipicos es: 0\n"
     ]
    }
   ],
   "source": [
    "#Revisar que fueron filtrados\n",
    "\n",
    "hr_min=90\n",
    "hr_max=190\n",
    "total_atipicos=((data['heart_rate']<hr_min)|(data['heart_rate']>hr_max)).sum()\n",
    "print(\"El total de datos atipicos es: {}\".format(total_atipicos))"
   ]
  },
  {
   "cell_type": "code",
   "execution_count": 34,
   "id": "1e6a28bc-e910-4380-80b6-4fb912dc0efa",
   "metadata": {},
   "outputs": [
    {
     "name": "stdout",
     "output_type": "stream",
     "text": [
      "<class 'pandas.core.frame.DataFrame'>\n",
      "Index: 289 entries, 0 to 296\n",
      "Data columns (total 14 columns):\n",
      " #   Column             Non-Null Count  Dtype  \n",
      "---  ------             --------------  -----  \n",
      " 0   age                289 non-null    int64  \n",
      " 1   gender             289 non-null    int64  \n",
      " 2   chest_pain         289 non-null    int64  \n",
      " 3   blood_pressure     289 non-null    int64  \n",
      " 4   cholesterol        289 non-null    int64  \n",
      " 5   blood_sugar        289 non-null    int64  \n",
      " 6   electrocardiogram  289 non-null    int64  \n",
      " 7   heart_rate         289 non-null    int64  \n",
      " 8   exang              289 non-null    int64  \n",
      " 9   oldpeak            289 non-null    float64\n",
      " 10  slope              289 non-null    int64  \n",
      " 11  ca                 289 non-null    int64  \n",
      " 12  thal               289 non-null    int64  \n",
      " 13  condition          289 non-null    int64  \n",
      "dtypes: float64(1), int64(13)\n",
      "memory usage: 33.9 KB\n"
     ]
    }
   ],
   "source": [
    "data.info()"
   ]
  },
  {
   "cell_type": "markdown",
   "id": "31dc4ee5-fd5f-46dd-bbaa-d309b591565f",
   "metadata": {},
   "source": [
    "condition — (El Valor que nos interesa) — diagnosis of heart disease (angiographic disease status) Value 0: < 50% diameter narrowing Value 1: > 50% diameter narrowing"
   ]
  },
  {
   "cell_type": "code",
   "execution_count": 35,
   "id": "ea7acc81-0b4a-4f55-b5d7-521fc0daae86",
   "metadata": {},
   "outputs": [
    {
     "data": {
      "text/plain": [
       "condition\n",
       "0    156\n",
       "1    133\n",
       "Name: count, dtype: int64"
      ]
     },
     "execution_count": 35,
     "metadata": {},
     "output_type": "execute_result"
    }
   ],
   "source": [
    "#3. Seleccionar las características más relevantes para entrenar:\n",
    "#El objetivo es detectar la presencia de una enfermedad cardíaca.\n",
    "\n",
    "data['condition'].value_counts()"
   ]
  },
  {
   "cell_type": "code",
   "execution_count": 36,
   "id": "10a1e1d2-45f5-41f6-b220-3546b037157e",
   "metadata": {},
   "outputs": [
    {
     "data": {
      "text/plain": [
       "0     0\n",
       "1     0\n",
       "2     0\n",
       "3     1\n",
       "4     0\n",
       "5     0\n",
       "6     0\n",
       "7     1\n",
       "8     0\n",
       "9     0\n",
       "10    1\n",
       "11    1\n",
       "12    1\n",
       "13    0\n",
       "14    0\n",
       "16    0\n",
       "17    0\n",
       "18    1\n",
       "19    0\n",
       "20    0\n",
       "21    1\n",
       "22    0\n",
       "23    0\n",
       "24    0\n",
       "25    0\n",
       "26    1\n",
       "27    0\n",
       "28    1\n",
       "29    0\n",
       "30    0\n",
       "Name: condition, dtype: int64"
      ]
     },
     "execution_count": 36,
     "metadata": {},
     "output_type": "execute_result"
    }
   ],
   "source": [
    "data['condition'].head(30)"
   ]
  },
  {
   "cell_type": "code",
   "execution_count": 38,
   "id": "568f1ffe-45ab-4798-acce-1eaa361be4d4",
   "metadata": {},
   "outputs": [],
   "source": [
    "#4. Dividir el dataset en Train y Test para evaluar:\n",
    "#Usamos 75% para entrenamiento y 25% para pruebas\n",
    "\n",
    "X = data.drop('condition',axis=1)\n",
    "Y = data['condition']\n",
    "\n",
    "#Se usa la funcion train_test_split para separar el bloque de entrenamiento:\n",
    "\n",
    "X_train, X_test, Y_train, Y_test = train_test_split(X, Y, test_size=0.25, stratify=Y, random_state=0)"
   ]
  },
  {
   "cell_type": "code",
   "execution_count": 42,
   "id": "0991780d-9b6d-4818-b032-7638dfe8ed11",
   "metadata": {},
   "outputs": [
    {
     "name": "stdout",
     "output_type": "stream",
     "text": [
      "     age  gender  chest_pain  blood_pressure  cholesterol  blood_sugar  \\\n",
      "275   45       1           3             104          208            0   \n",
      "23    74       0           1             120          269            0   \n",
      "93    60       1           2             140          185            0   \n",
      "292   40       1           3             152          223            0   \n",
      "72    76       0           2             140          197            0   \n",
      "..   ...     ...         ...             ...          ...          ...   \n",
      "143   43       1           2             130          315            0   \n",
      "202   60       1           3             140          293            0   \n",
      "240   55       1           3             132          353            0   \n",
      "181   63       0           3             108          269            0   \n",
      "233   57       1           3             132          207            0   \n",
      "\n",
      "     electrocardiogram  heart_rate  exang  oldpeak  slope  ca  thal  \n",
      "275                  2         148      1      3.0      1   0     0  \n",
      "23                   2         121      1      0.2      0   1     0  \n",
      "93                   2         155      0      3.0      1   0     0  \n",
      "292                  0         181      0      0.0      0   0     2  \n",
      "72                   1         116      0      1.1      1   0     0  \n",
      "..                 ...         ...    ...      ...    ...  ..   ...  \n",
      "143                  0         162      0      1.9      0   1     0  \n",
      "202                  2         170      0      1.2      1   2     2  \n",
      "240                  0         132      1      1.2      1   1     2  \n",
      "181                  0         169      1      1.8      1   2     0  \n",
      "233                  0         168      1      0.0      0   0     2  \n",
      "\n",
      "[216 rows x 13 columns]\n"
     ]
    }
   ],
   "source": [
    "print(X_train)"
   ]
  },
  {
   "cell_type": "code",
   "execution_count": 43,
   "id": "f3c85754-a257-4383-97c0-19f224589f65",
   "metadata": {},
   "outputs": [
    {
     "name": "stdout",
     "output_type": "stream",
     "text": [
      "275    0\n",
      "23     0\n",
      "93     1\n",
      "292    1\n",
      "72     0\n",
      "      ..\n",
      "143    0\n",
      "202    1\n",
      "240    1\n",
      "181    1\n",
      "233    0\n",
      "Name: condition, Length: 216, dtype: int64\n"
     ]
    }
   ],
   "source": [
    "print(Y_train)"
   ]
  },
  {
   "cell_type": "code",
   "execution_count": 44,
   "id": "32e80ec6-560d-474f-ae0f-6bfa36378869",
   "metadata": {},
   "outputs": [],
   "source": [
    "#5. Entrenar el modelo configurando los diferentes hiperparámetros.\n",
    "\n",
    "mod_regresion = LogisticRegression(solver = \"liblinear\")\n",
    "mod_regresion.fit (X_train, Y_train)\n",
    "\n",
    "#Modelo de Prediccion\n",
    "\n",
    "prediccion = mod_regresion.predict(X_test)"
   ]
  },
  {
   "cell_type": "code",
   "execution_count": 45,
   "id": "b88548b9-f122-4e58-8411-e3bde93f8b58",
   "metadata": {},
   "outputs": [
    {
     "name": "stdout",
     "output_type": "stream",
     "text": [
      "244    1\n",
      "33     1\n",
      "248    1\n",
      "167    1\n",
      "272    0\n",
      "      ..\n",
      "128    1\n",
      "140    0\n",
      "111    0\n",
      "221    1\n",
      "107    0\n",
      "Name: condition, Length: 73, dtype: int64\n"
     ]
    }
   ],
   "source": [
    "print (Y_test)"
   ]
  },
  {
   "cell_type": "code",
   "execution_count": 46,
   "id": "1e533a10-bb25-4675-b04f-38193f27a794",
   "metadata": {},
   "outputs": [
    {
     "name": "stdout",
     "output_type": "stream",
     "text": [
      "[1 0 1 1 0 0 0 0 1 1 1 0 0 0 1 1 1 1 0 0 0 1 1 1 0 0 0 0 1 0 1 0 0 1 1 0 1\n",
      " 0 1 1 0 0 1 0 0 1 0 0 0 0 1 0 0 0 0 0 1 1 0 0 0 1 1 1 0 1 1 0 1 0 0 1 1]\n"
     ]
    }
   ],
   "source": [
    "print (prediccion)"
   ]
  },
  {
   "cell_type": "code",
   "execution_count": 47,
   "id": "f0c03375-dd7c-4cfb-bbe4-1660c59013f7",
   "metadata": {},
   "outputs": [
    {
     "name": "stdout",
     "output_type": "stream",
     "text": [
      "              precision    recall  f1-score   support\n",
      "\n",
      "           0       0.88      0.90      0.89        39\n",
      "           1       0.88      0.85      0.87        34\n",
      "\n",
      "    accuracy                           0.88        73\n",
      "   macro avg       0.88      0.88      0.88        73\n",
      "weighted avg       0.88      0.88      0.88        73\n",
      "\n"
     ]
    }
   ],
   "source": [
    "#6. Evaluar el desempeño del modelo en el conjunto de Test\n",
    "\n",
    "print (classification_report(Y_test,prediccion))"
   ]
  },
  {
   "cell_type": "code",
   "execution_count": 49,
   "id": "4763f15e-1256-4426-bea9-1597afc75d14",
   "metadata": {},
   "outputs": [
    {
     "data": {
      "text/plain": [
       "<sklearn.metrics._plot.confusion_matrix.ConfusionMatrixDisplay at 0x1d070784a10>"
      ]
     },
     "execution_count": 49,
     "metadata": {},
     "output_type": "execute_result"
    },
    {
     "data": {
      "image/png": "[encoded data removed]",
      "text/plain": [
       "<Figure size 640x480 with 2 Axes>"
      ]
     },
     "metadata": {},
     "output_type": "display_data"
    }
   ],
   "source": [
    "#7. Realizar las diferentes gráficas que permitan visualizar los resultados del modelo.\n",
    "\n",
    "mc=confusion_matrix(Y_test,prediccion)\n",
    "disp=metrics.ConfusionMatrixDisplay(confusion_matrix=mc)\n",
    "disp.plot()"
   ]
  },
  {
   "cell_type": "code",
   "execution_count": 52,
   "id": "702d2ce5-324e-4c42-8883-fd11e1f2a0b9",
   "metadata": {
    "scrolled": true
   },
   "outputs": [
    {
     "data": {
      "text/plain": [
       "<function matplotlib.pyplot.show(close=None, block=None)>"
      ]
     },
     "execution_count": 52,
     "metadata": {},
     "output_type": "execute_result"
    },
    {
     "data": {
      "image/png": "[encoded data removed]",
      "text/plain": [
       "<Figure size 640x480 with 1 Axes>"
      ]
     },
     "metadata": {},
     "output_type": "display_data"
    }
   ],
   "source": [
    "RocCurveDisplay.from_predictions(Y_test, prediccion)\n",
    "plt.show"
   ]
  },
  {
   "cell_type": "markdown",
   "id": "267eac6c-9b5d-4403-b50c-1e19fa6a0bc5",
   "metadata": {},
   "source": [
    "#8. Interpretar, analizar y documentar los resultados obtenidos.\n",
    "\n",
    "Grafica Matriz de confusion:\n",
    "35 veces el algoritmo predijo que el paciente NO tenía condiciones cardiacas de manera acertada.\n",
    "29 veces el algoritmo predijo que el paciente SI tenía condiciones cardiacas de manera acertada.\n",
    "5 veces el algoritmo predijo que el peciente NO tenía condiciones cardiacas, pero en realidad SI.\n",
    "4 veces el algoritmo predijo que el paciente Si tenía condiciones cardiacas, pero en realidad NO.\n",
    "\n",
    "Grafica Curva ROC\n",
    "Nos muestra como resultado un AUC = 0.88, lo cual se puede interpretar como un 88% de predicciones acertadas.\n"
   ]
  }
 ],
 "metadata": {
  "kernelspec": {
   "display_name": "Python 3 (ipykernel)",
   "language": "python",
   "name": "python3"
  },
  "language_info": {
   "codemirror_mode": {
    "name": "ipython",
    "version": 3
   },
   "file_extension": ".py",
   "mimetype": "text/x-python",
   "name": "python",
   "nbconvert_exporter": "python",
   "pygments_lexer": "ipython3",
   "version": "3.11.7"
  }
 },
 "nbformat": 4,
 "nbformat_minor": 5
}
